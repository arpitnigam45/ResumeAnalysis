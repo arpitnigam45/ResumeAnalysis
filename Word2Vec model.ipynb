{
 "cells": [
  {
   "cell_type": "code",
   "execution_count": 2,
   "metadata": {},
   "outputs": [],
   "source": [
    "import os"
   ]
  },
  {
   "cell_type": "code",
   "execution_count": 3,
   "metadata": {},
   "outputs": [],
   "source": [
    "projectDir = '/home/arpit/Desktop/nlp_project/Resume-Scoring-using-NLP-master/Extraction-of-Skills-master/'\n",
    "cleanResumeDir = projectDir + 'data/clean_resume/'\n",
    "\n",
    "os.chdir(cleanResumeDir)\n",
    "\n",
    "tokenized_resumes = []\n",
    "\n",
    "for clean_resume in os.listdir(cleanResumeDir):\n",
    "    file = open(str(clean_resume), 'r')\n",
    "    resume = file.read()\n",
    "    tokenized_resumes.append(resume.split())"
   ]
  },
  {
   "cell_type": "code",
   "execution_count": 4,
   "metadata": {},
   "outputs": [
    {
     "name": "stdout",
     "output_type": "stream",
     "text": [
      "[['educational', 'qualifications', 'degree', 'certificate', 'name', 'of', 'institute', 'year', 'of', 'passing', 'chartered', 'accountant', 'institute', 'of', 'chartered', 'accountants', 'of', 'india', 'bachelor', 'of', 'commerce', 'lucknow', 'university', 'india', 'schooling', 'central', 'school', 'r', 'd', 's', 'o', 'lucknow', 'india', 'professional', 'experience', 'ballarpur', 'industries', 'ltd', 'gurgaon', 'jan', 'nov', 'designation', 'assistant', 'manager', 'responsibilit', 'preparation', 'consolidation', 'units', 'head', 'office', 'mis', 'reports', 'ies', 'on', 'monthly', 'basis', 'top', 'management', 'answering', 'related', 'queries', 'conducting', 'statutory', 'audit', 'internal', 'audit', 'tax', 'audit', 'preparation', 'audit', 'reports', 'maintenance', 'fixed', 'assets', 'oracle', 'apps', 'preparation', 'schedules', 'assets', 'sale', 'depreciation', 'fixed', 'assets', 'preparation', 'sale', 'bills', 'full', 'final', 'settlement', 'employees', 'maintenance', 'accounts', 'secured', 'unsecured', 'loans', 'm', 's', 'jain', 'kapoor', 'company', 'chartered', 'accountants', 'lucknow', 'jan', 'dec', 'designation', 'assistant', 'responsibilit', 'conducting', 'statutory', 'audits', 'preparation', 'audit', 'reports', 'ies', 'finalization', 'books', 'accounts', 'preparation', 'financial', 'statements', 'conducting', 'tax', 'audit', 'depository', 'participant', 'audit', 'preparation', 'representation', 'assessment', 'proceedings', 'assessing', 'officer', 'dcit', 'level', 'articleship', 'internship', 'name', 'of', 'firm', 'place', 'period', 'a', 'sachdeva', 'co', 'lucknow', 'sep', 'nov', 'a', 'jindal', 'co', 'lucknow', 'nov', 'sep', 'software', 'skills', 'hands', 'on', 'experience', 'in', 'ms', 'excel', 'ms', 'word', 'ms', 'powerpoint', 'ms', 'windows', 'oracle', 'apps', '11i', 'accounting', 'module', 'achievements', 'won', 'scholarship', 'for', 'achieving', 'first', 'prize', 'in', 'national', 'painting', 'competition', 'organized', 'by', 'iccw', 'remained', 'topper', '1st', 'rank', 'throughout', 'secondary', 'school', 'scored', 'class', 'x', 'class', 'xii', 'cbse', 'exams', 'secured', '3rd', 'rank', 'lucknow', 'ca', 'foundation', 'exams', 'may', 'scored', 'other', 'information', 'personal', 'details', 'female', 'years', 'married', 'sikh', 'hindu', 'indian', 'citizen', 'hong', 'kong', 'resident', 'languages', 'spoken', 'english', 'hindi', 'phone', 'email', 'malik', 'jaspreet', 'gmail', 'com'], ['nur', 'dianie', 'abdul', 'samad', 'dianie', 'samad', 'blk', 'bukit', 'batok', 'central', 'singapore', 'home', 'mobile', 'email', 'summary', 'of', 'qualifications', 'a', 'cpa', 'years', 'experience', 'private', 'equity', 'providing', 'timely', 'fund', 'accounting', 'fund', 'administration', 'services', 'clients', 'including', 'years', 'managing', 'team', 'individuals', 'also', 'years', 'experience', 'providing', 'outsourced', 'accounting', 'administrative', 'services', 'clients', 'various', 'industries', 'an', 'organised', 'individual', 'able', 'work', 'independently', 'lead', 'team', 'provide', 'excellent', 'services', 'clients', 'well', 'accomplish', 'company', 's', 'objectives', 'work', 'experience', 'currently', 'taking', 'break', 'personal', 'family', 'time', 'looking', 'return', 'work', 'start', 'november', 'january', 'june', 'client', 'services', 'senior', 'accountant', 'augentius', 'singapore', 'pte', 'ltd', 'responsible', 'overseeing', 'smooth', 'running', 'relationship', 'designated', 'private', 'equity', 'clients', 'worked', 'back', 'office', 'ensure', 'effective', 'back', 'office', 'front', 'office', 'model', 'maintained', 'good', 'client', 'relationships', 'accurate', 'understanding', 'client', 'requirements', 'ensured', 'work', 'appropriately', 'allocated', 'across', 'team', 'meet', 'client', 'deadlines', 'provide', 'development', 'opportunities', 'individuals', 'within', 'team', 'ensured', 'team', 'received', 'constructive', 'support', 'trained', 'adequately', 'carry', 'role', 'effectively', 'assisted', 'advised', 'resolved', 'technical', 'operational', 'issues', 'raised', 'team', 'performed', 'reviews', 'designated', 'client', 'accounts', 'teams', 'aa', 'required', 'actively', 'identify', 'ways', 'improving', 'efficiency', 'minimising', 'risk', 'company', 'continually', 'improve', 'technical', 'knowledge', 'attending', 'trainings', 'provided', 'training', 'technical', 'team', 'be', 'role', 'model', 'client', 'service', 'staff', 'client', 'delivery', 'responsible', 'ensuring', 'team', 'provides', 'quality', 'service', 'clients', 'ensured', 'reviews', 'completed', 'files', 'acceptable', 'standards', 'point', 'escalation', 'client', 'queries', 'ensuring', 'effectively', 'managed', 'resolution', 'had', 'oversight', 'whole', 'administration', 'process', 'ensure', 'processes', 'completed', 'smoothly', 'designated', 'clients', 'ensured', 'team', 'maintaining', 'regular', 'contacts', 'clients', 'regular', 'phone', 'calls', 'emails', 'detailing', 'upcoming', 'deliverables', 'ensured', 'team', 'managing', 'work', 'able', 'meet', 'deadlines', 'per', 'agreed', 'timetables', 'ensured', 'proper', 'dissemination', 'team', 'financial', 'statements', 'annual', 'reports', 'capital', 'accounts', 'limited', 'partner', 'accordance', 'timelines', 'stipulated', 'limited', 'partnership', 'agreements', 'lpas', 'various', 'agreements', 'management', 'team', 'responsible', 'managing', 'individuals', 'accountants', 'assistant', 'accountant', 'first', 'point', 'escalation', 'technical', 'queries', 'raised', 'team', 'developed', 'team', 's', 'technical', 'skills', 'ensure', 'clear', 'understanding', 'technical', 'operational', 'aspects', 'clients', 'ensured', 'team', 'maintained', 'effective', 'relationship', 'back', 'office', 'developed', 'team', 's', 'ability', 'evaluate', 'areas', 'improvement', 'productivity', 'risk', 'control', 'especially', 'regards', 'working', 'relationship', 'back', 'office', 'spare', 'capacity', 'reviewed', 'team', 'work', 'allocation', 'areas', 'spare', 'capacity', 'conducted', 'weekly', 'meetings', 'team', 'start', 'week', 'ensure', 'team', 'aware', 'deliverables', 'provide', 'assistance', 'one', 'another', 'required', 'was', 'proactively', 'identifying', 'areas', 'departmental', 'improvement', 'escalating', 'line', 'manager', 'suggesting', 'appropriate', 'courses', 'action', 'team', 'holiday', 'expenses', 'approvals', 'conducted', 'return', 'work', 'catch', 'sessions', 'team', 'ensure', 'team', 'kept', 'date', 'clients', 'requirements', 'absence', 'conduct', 'appraisals', 'agree', 'team', 's', 'personal', 'development', 'plans', 'set', 'objectives', 'agreed', 'timescales', 'fee', 'management', 'ensured', 'invoice', 'cycle', 'including', 'authorisation', 'collection', 'efficient', 'completed', 'within', 'agreed', 'timeline', 'looked', 'additional', 'value', 'added', 'services', 'additional', 'revenue', 'opportunities', 'offer', 'clients', 'ensured', 'time', 'cost', 'updated', 'accurately', 'billing', 'system', 'captured', 'correctly', 'invoice', 'cycle', 'ensured', 'team', 'recorded', 'hours', 'worked', 'designated', 'clients', 'regularly', 'systems', 'understood', 'used', 'best', 'practice', 'investran', 'modules', 'active', 'templates', 'data', 'structure', 'ensured', 'team', 'using', 'art', 'internally', 'built', 'augentius', 'linked', 'investran', 'appropriately', 'produce', 'accounts', 'assisted', 'development', 'report', 'wizard', 'systems', 'improve', 'efficiency', 'reduce', 'manual', 'reporting', 'risk', 'reviewed', 'operational', 'processes', 'areas', 'improvement', 'inefficiency', 'escalated', 'areas', 'suggesting', 'remedial', 'measures', 'ensured', 'checklists', 'procedures', 'followed', 'times', 'ensured', 'client', 'checklists', 'appropriately', 'tailored', 'client', 'specific', 'risks', 'reported', 'breaches', 'complaints', 'errors', 'line', 'manager', 'compliance', 'officer', 'promptly', 'ensured', 'compliance', 'report', 'updated', 'timely', 'basis', 'ensured', 'action', 'points', 'internal', 'audit', 'error', 'reports', 'cleared', 'aml', 'kyc', 'worked', 'team', 'compliance', 'colleagues', 'ensure', 'clients', 'investors', 'aml', 'kyc', 'completed', 'per', 'regulations', 'ensured', 'team', 'basic', 'aml', 'kyc', 'knowledge', 'respective', 'clients', 'investors', 'completed', 'online', 'training', 'course', 'anti', 'money', 'laundering', 'course', 'personal', 'retail', 'investment', 'professionals', 'ad', 'hoc', 'activity', 'trained', 'client', 'services', 'team', 'hong', 'kong', 'provide', 'practical', 'approach', 'processes', 'request', 'october', 'january', 'senior', 'fund', 'accountant', 'state', 'street', 'fund', 'services', 'singapore', 'pte', 'limited', 'alternative', 'investment', 'services', 'ais', 'previously', 'mourant', 'international', 'finance', 'administration', 'also', 'known', 'mifa', 'exposed', 'different', 'spectrum', 'private', 'equity', 'clients', 'different', 'setups', 'operations', 'exposed', 'real', 'estate', 'infrastructure', 'private', 'equity', 'funds', 'well', 'fund', 'of', 'funds', 'started', 'accounts', 'assistant', 'working', 'senior', 'fund', 'accountant', 'managed', 'fund', 'accountants', 'main', 'point', 'contact', 'clients', 'external', 'parties', 'portfolio', 'recognised', 'one', 'key', 'talents', 'ais', 'assisted', 'supervisor', 'client', 'relationship', 'manager', 'ad', 'hoc', 'requests', 'relating', 'portfolio', 'accounting', 'activity', 'responsible', 'review', 'monthly', 'quarterly', 'year', 'end', 'management', 'accounts', 'including', 'bank', 'reconciliation', 'cash', 'flow', 'statements', 'prepared', 'fund', 'accountants', 'reviewed', 'monthly', 'bookkeeping', 'maintenance', 'general', 'ledger', 'fund', 'companies', 'limited', 'partnership', 'prepared', 'fund', 'accountants', 'responsible', 'preparation', 'abbreviated', 'quarterly', 'financial', 'statements', 'accordance', 'singapore', 'financial', 'reporting', 'standards', 'sfrs', 'international', 'financial', 'reporting', 'standards', 'ifrs', 'us', 'gaap', 'including', 'recording', 'investments', 'quarterly', 'changes', 'unrealised', 'gains', 'losses', 'investment', 'general', 'ledger', 'obtaining', 'period', 'end', 'valuations', 'fund', 'companies', 'and', 'or', 'relevant', 'independent', 'valuations', 'maintenance', 'capital', 'accounts', 'respect', 'limited', 'partner', 'responsible', 'preparation', 'draft', 'annual', 'financial', 'statements', 'fund', 'companies', 'limited', 'partnerships', 'accordance', 'sfrs', 'ifrs', 'us', 'gaap', 'prepared', 'year', 'end', 'workpaper', 'package', 'co', 'ordination', 'auditors', 'clients', 'fund', 'companies', 'limited', 'partnerships', 'ensured', 'proper', 'dissemination', 'fund', 'accountants', 'financial', 'statements', 'annual', 'report', 'capital', 'accounts', 'limited', 'partner', 'accordance', 'timelines', 'stipulated', 'limited', 'partnership', 'agreements', 'lpas', 'various', 'agreements', 'capital', 'activity', 'responsible', 'review', 'preparation', 'dissemination', 'capital', 'activity', 'notices', 'including', 'calculating', 'allocations', 'equalisations', 'capital', 'drawdowns', 'calculating', 'allocations', 'distributions', 'preparing', 'dispatching', 'investor', 'call', 'distribution', 'notices', 'accordance', 'lpas', 'various', 'agreements', 'reconciling', 'actual', 'versus', 'expected', 'receipts', 'disbursements', 'maintenance', 'investor', 'information', 'reviewed', 'processing', 'investor', 'subscription', 'materials', 'fund', 'administrator', 'reviewed', 'anti', 'money', 'laundering', 'know', 'client', 'reviews', 'completed', 'fund', 'accountant', 'fund', 'administrator', 'respect', 'investors', 'accordance', 'relevant', 'aml', 'cft', 'legislation', 'well', 'follow', 'up', 'investors', 'resolve', 'problems', 'requesting', 'additional', 'information', 'necessary', 'responsible', 'review', 'static', 'data', 'investors', 'register', 'limited', 'partners', 'maintained', 'fund', 'accountant', 'fund', 'administrator', 'responsible', 'allocation', 'income', 'expenses', 'gains', 'losses', 'individual', 'limited', 'partners', 'accounts', 'accordance', 'lpa', 'various', 'agreements', 'administered', 'procedures', 'late', 'defaulting', 'investors', 'necessary', 'cash', 'control', 'assisted', 'opening', 'maintenance', 'bank', 'accounts', 'necessary', 'managed', 'cash', 'payments', 'disbursement', 'corporate', 'actions', 'upon', 'approval', 'clients', 'performed', 'regular', 'cash', 'reconciliations', 'providing', 'clients', 'ad', 'hoc', 'activity', 'assisted', 'various', 'ad', 'hoc', 'requests', 'clients', 'investors', 'july', 'october', 'accounts', 'executive', 'enterprise', 'management', 'pte', 'ltd', 'responsible', 'preparation', 'monthly', 'quarterly', 'half', 'yearly', 'yearly', 'bookkeeping', 'services', 'full', 'set', 'management', 'accounts', 'including', 'audit', 'schedules', 'clients', 'different', 'industries', 'responsible', 'preparation', 'unaudited', 'compilation', 'reports', 'clients', 'accordance', 'sfrs', 'performed', 'general', 'administrative', 'functions', 'clients', 'invoicing', 'payments', 'suppliers', 'responsible', 'preparation', 'monthly', 'payroll', 'including', 'cpf', 'contributions', 'clients', 'responsible', 'preparation', 'quarterly', 'goods', 'services', 'tax', 'gst', 'filing', 'clients', 'performed', 'gst', 'registrations', 'clients', 'liaising', 'new', 'existing', 'clients', 'regular', 'basis', 'regards', 'bookkeeping', 'payroll', 'gst', 'administrative', 'matters', 'liaising', 'auditors', 'company', 'secretary', 'tax', 'agents', 'bankers', 'clients', 'necessary', 'provided', 'accounting', 'payroll', 'gst', 'advice', 'new', 'existing', 'ad', 'hoc', 'clients', 'regular', 'basis', 'provided', 'quickbook', 'premier', 'demonstrations', 'installations', 'clients', 'office', 'locations', 'including', 'customisation', 'forms', 'september', 'may', 'accounts', 'assistant', 'bsl', 'group', 'bsl', 'corporate', 'services', 'pte', 'ltd', 'oversaw', 'general', 'accounting', 'functions', 'department', 'responsible', 'preparation', 'monthly', 'accounts', 'year', 'end', 'management', 'accounts', 'including', 'bank', 'reconciliation', 'cash', 'flow', 'statements', 'oversaw', 'billing', 'functions', 'department', 'including', 'invoicing', 'receipting', 'performed', 'functions', 'agent', 'service', 'process', 'aps', 'include', 'acting', 'agent', 'liaising', 'relevant', 'parties', 'loans', 'involving', 'foreign', 'borrowers', 'performed', 'general', 'administrative', 'duties', 'bsl', 'management', 'services', 'pte', 'ltd', 'responsible', 'preparation', 'monthly', 'half', 'yearly', 'yearly', 'bookkeeping', 'services', 'well', 'general', 'administrative', 'functions', 'clients', 'different', 'industries', 'in', 'house', 'clients', 'office', 'locations', 'july', 'september', 'temporary', 'data', 'entry', 'clerk', 'credit', 'cards', 'hsbc', 'data', 'entry', 'clerk', 'november', 'june', 'tax', 'officer', 'contract', 'inland', 'revenue', 'authority', 'singapore', 'enforcement', 'division', 'dealing', 'debt', 'management', 'cases', 'provided', 'solutions', 'taxpayers', 'debts', 'dealing', 'directly', 'taxpayers', 'front', 'line', 'duties', 'telephone', 'interview', 'well', 'correspondences', 'making', 'sure', 'service', 'standards', 'achieved', 'i', 'e', 'correspondences', 'replied', 'within', 'days', 'week', 'september', 'october', 'temporary', 'materials', 'management', 'assistant', 'health', 'promotion', 'board', 'asset', 'tagging', 'including', 'out', 'stationed', 'schools', 'preparation', 'audit', 'august', 'september', 'temporary', 'data', 'entry', 'clerk', 'loans', 'hsbc', 'extensive', 'use', 'excel', 'data', 'entry', 'december', 'april', 'temporary', 'finance', 'executive', 'islamic', 'religious', 'council', 'singapore', 'performed', 'partial', 'accounting', 'assisted', 'rental', 'collections', 'may', 'june', 'ngee', 'ann', 'polytechnic', 'industrial', 'attachment', 'lim', 'associates', 'pte', 'ltd', 'assisted', 'corporate', 'secretarial', 'duties', 'march', 'may', 'temporary', 'data', 'entry', 'clerk', 'hsbc', 'data', 'entry', 'education', 'july', 'may', 'bachelor', 'business', 'accountancy', 'royal', 'melbourne', 'institute', 'technology', 'singapore', 'institute', 'management', 'july', 'november', 'diploma', 'accountancy', 'ngee', 'ann', 'polytechnic', 'class', 'leader', 'semester', 'mock', 'setting', 'business', 'including', 'conducting', 'general', 'survey', 'public', 'forecasting', 'financial', 'statements', 'part', 'final', 'project', 'final', 'semester', 'gce', 'o', 'levels', 'bedok', 'north', 'secondary', 'school', 'professional', 'qualification', 'and', 'awards', 'certified', 'public', 'accountant', 'australia', 'won', 'ais', 'division', 'award', 'activities', 'involved', 'actively', 'participate', 'sports', 'treasury', 'malay', 'cultural', 'club', 'actively', 'participated', 'performances', 'school', 'activities', 'youth', 'day', 'hari', 'raya', 'celebrations', 'writing', 'school', 'paper', 'member', 'sports', 'recreational', 'club', 'bsl', 'group', 'assisted', 'coordinating', 'activities', 'member', 'toastmasters', 'state', 'street', 'actively', 'participates', 'work', 'health', 'programmes', 'professional', 'women', 's', 'network', 'global', 'inclusion', 'programmes', 'organised', 'state', 'street', 'skills', 'and', 'capabilities', 'microsoft', 'office', 'words', 'excel', 'powerpoint', 'accounting', 'systems', 'quickbook', 'premier', 'accpac', 'sun', 'accounting', 'system', 'myob', 'investran', 'computer', 'knowledge', 'internet', 'lotus', 'notes', 'outlook', 'hr', 'toolkit', 'mebill', 'language', 'english', 'malay'], ['mala', 'd', 'o', 'ramakrishnan', 'malarama1', 'hotmail', 'com', 'singaporean', 'summary', 'pro', 'active', 'secretary', 'positive', 'mindset', 'possess', 'extensive', 'experience', 'providing', 'secretarial', 'administrative', 'support', 'directors', 'managers', 'teams', 'a', 'team', 'player', 'involving', 'areas', 'social', 'corporate', 'responsibilities', 'planning', 'company', 's', 'dinner', 'dance', 'in', 'house', 'activities', 'a', 'meticulous', 'worker', 'strong', 'eye', 'detail', 'highly', 'dependable', 'able', 'handle', 'multi', 'task', 'roles', 'efficiently', 'good', 'planning', 'organising', 'skills', 'ability', 'get', 'work', 'done', 'within', 'deadlines', 'good', 'interpersonal', 'communication', 'skills', 'able', 'establish', 'good', 'working', 'rapport', 'people', 'across', 'organisation', 'work', 'alongside', 'people', 'different', 'nationalities', 'cultures', 'professional', 'experience', 'eastspring', 'investments', 'singapore', 'limited', 'confidential', 'secretary', 'provide', 'secretarial', 'administrative', 'support', 'legal', 'risk', 'management', 'team', 'in', 'addition', 'provide', 'secretarial', 'support', 'company', 'secretary', 'trademark', 'team', 'legal', 'risk', 'management', 'team', 'provided', 'secretarial', 'administrative', 'support', 'directors', 'managers', 'follows', 'nov', 'aug', 'arranged', 'internal', 'external', 'meetings', 'ensuring', 'ancillary', 'support', 'provided', 'meetings', 'handled', 'travel', 'arrangements', 'accommodations', 'various', 'countries', 'handled', 'travel', 'expenses', 'claims', 'official', 'personal', 'travels', 'assisted', 'legal', 'management', 'teams', 'respect', 'of', 'appointments', 'external', 'law', 'firm', 'local', 'overseas', 'fees', 'paid', 'relevant', 'financial', 'year', 'prepared', 'expense', 'reports', 'financial', 'year', 'accruals', 'legal', 'risk', 'management', 'teams', 'material', 'contracts', 'disclosure', 'contingency', 'planning', 'support', 'eastspring', 'hong', 'kong', 'provision', 'legal', 'secretarial', 'services', 'respect', 'infrastructure', 'mandate', 'updated', 'monthly', 'semi', 'annual', 'annual', 'legal', 'reports', 'respect', 'material', 'contracts', 'indemnities', 'significant', 'litigation', 'coordinated', 'business', 'managers', 'execution', 'documents', 'signatory', 'purpose', 'managed', 'risk', 'management', 'incident', 'reports', 'generating', 'reports', 'submission', 'dealt', 'prospectors', 'deeds', 'endorsing', 'company', 'seal', 'liaised', 'various', 'stakeholders', 'connection', 'archiving', 'legal', 'documents', 'collated', 'incident', 'management', 'reports', 'various', 'countries', 'submission', 'reports', 'corporate', 'secretary', 'liaised', 'external', 'company', 'secretary', 'boardroom', 'corporate', 'secretarial', 'matters', 'expediting', 'processing', 'invoices', 'execution', 'company', 'resolutions', 'involving', 'board', 'directors', 'page', 'trademarks', 'recorded', 'details', 'trademarks', 'the', 'various', 'classes', 'filed', 'difference', 'liaised', 'relevant', 'countries', 'trademarks', 'registration', 'class', 'registration', 'classes', 'registered', 'countries', 'data', 'base', 'sheet', 'accomplishments', 'legal', 'agreement', 'register', 'single', 'handily', 'revamped', 'revised', 'legal', 'agreement', 'register', 'scratch', 'involving', 'agreements', 'period', 'month', 'top', 'daily', 'work', 'load', 'it', 'resulted', 'easy', 'retrieval', 'documents', 'accurate', 'details', 'legal', 'documentation', 'portal', 'set', 'up', 'drove', 'establishment', 'legal', 'documentation', 'register', 'portal', 'working', 'closely', 'it', 'develop', 'sharepoint', 'site', 'stores', 'legal', 'documents', 'allows', 'user', 'perform', 'search', 'existing', 'legal', 'documents', 'project', 'support', 'provided', 'legal', 'secretarial', 'support', 'various', 'projects', 'system', 'vendor', 'selection', 'liaising', 'external', 'law', 'firms', 'various', 'types', 'vendors', 'fund', 'managements', 'may', 'jul', 'aug', 'apr', 'apr', 'may', 'united', 'legal', 'alliance', 'llc', 'contract', 'asia', 'legal', 'llc', 'global', 'law', 'alliance', 'legal', 'secretary', 'cum', 'pa', 'provided', 'similar', 'set', 'duties', 'responsibilities', 'law', 'firms', 'administration', 'court', 'document', 'wrote', 'clients', 'confirming', 'attendance', 'court', 'provided', 'necessary', 'information', 'billed', 'clients', 'prepared', 'various', 'court', 'documents', 'summons', 'affidavit', 'exchange', 'affidavit', 'evidence', 'in', 'chief', 'entering', 'appearance', 'pleadings', 'statement', 'claims', 'efs', 'filling', 'electronic', 'filing', 'system', 'prospectus', 'deeds', 'sea', 'web', 'search', 'acra', 'search', 'billing', 'administration', 'checked', 'invoices', 'according', 'lawyers', 'time', 'clocked', 'liaised', 'finance', 'team', 'issuing', 'cheques', 'prepared', 'cheques', 'maintained', 'clients', 'accounts', 'dealt', 'vessel', 'details', 'extracting', 'mpa', 'portal', 'reports', 'secretarial', 'support', 'co', 'ordinated', 'meetings', 'clients', 'internal', 'external', 'maintained', \"director's\", 'schedules', 'appointments', 'travel', 'arrangements', 'managed', 'bills', 'related', 'services', 'payments', 'managed', 'boss', 'expenses', 'timesheet', 'monthly', 'billings', 'teacly', 'pte', 'ltd', 'public', 'relation', 'officer', 'administrator', 'tasked', 'assistant', 'manager', 'in', 'charge', 'administration', 'coordinate', 'public', 'aug', 'feb', 'enquiries', 'attend', 'meetings', 'find', 'solutions', 'service', 'provided', 'well', 'page', 'temporary', 'assignments', 'held', 'various', 'temporary', 'assignments', 'providing', 'secretarial', 'administrative', 'support', 'apr', 'jul', 'directors', 'teams', 'conveyance', 'litigation', 'corporate', 'secretariat', 'oct', 'jan', 'sep', 'sep', 'cias', 'changi', 'airport', 'passenger', 'service', 'assistant', 'singapore', 'armed', 'forces', 'air', 'operational', 'assistant', 'education', 'management', 'development', 'institute', 'singapore', 'diploma', 'business', 'management', 'woodsville', 'secondary', 'school', 'gce', \"'n'\", 'levels', 'credits', 'courses', 'singapore', 'workforce', 'skills', 'qualifications', 'project', 'management', 'course', 'oct', 'centre', 'applied', 'life', 'concepts', 'wds', 'step', 'changes', 'trust', 'management', 'groups', 'personnel', 'effectiveness', 'course', 'jul', 'others', 'computer', 'software', 'knowledge', 'skills', 'ms', 'word', 'ms', 'excel', 'ms', 'powerpoint', 'ms', 'outlook', 'elite', 'in', 'house', 'billing', 'application', 'language', 'proficiency', 'fluent', 'written', 'oral', 'english', 'tamil', 'conversational', 'ability', 'malay', 'mandarin', 'volunteering', 'work', 'participated', 'many', 'volunteering', 'programs', 'company', 'one', 'highlights', 'station', 'bantayan', 'island', 'week', 'build', 'houses', 'affected', 'typhoon', 'page']]\n"
     ]
    }
   ],
   "source": [
    "print(tokenized_resumes[:3])"
   ]
  },
  {
   "cell_type": "code",
   "execution_count": 5,
   "metadata": {},
   "outputs": [
    {
     "name": "stderr",
     "output_type": "stream",
     "text": [
      "/home/arpit/anaconda3/lib/python3.8/site-packages/gensim/similarities/__init__.py:15: UserWarning: The gensim.similarities.levenshtein submodule is disabled, because the optional Levenshtein package <https://pypi.org/project/python-Levenshtein/> is unavailable. Install Levenhstein (e.g. `pip install python-Levenshtein`) to suppress this warning.\n",
      "  warnings.warn(msg)\n"
     ]
    }
   ],
   "source": [
    "import gensim\n",
    "from gensim.models import Word2Vec, KeyedVectors\n",
    "import multiprocessing"
   ]
  },
  {
   "cell_type": "code",
   "execution_count": 13,
   "metadata": {},
   "outputs": [
    {
     "ename": "TypeError",
     "evalue": "Either one of corpus_file or corpus_iterable value must be provided",
     "output_type": "error",
     "traceback": [
      "\u001b[0;31m---------------------------------------------------------------------------\u001b[0m",
      "\u001b[0;31mTypeError\u001b[0m                                 Traceback (most recent call last)",
      "\u001b[0;32m<ipython-input-13-fd645baeb703>\u001b[0m in \u001b[0;36m<module>\u001b[0;34m\u001b[0m\n\u001b[1;32m      7\u001b[0m \u001b[0;31m#model.intersect_word2vec_format('GoogleNews-vectors-negative300.bin.gz', lockf=1.0, binary=True)\u001b[0m\u001b[0;34m\u001b[0m\u001b[0;34m\u001b[0m\u001b[0;34m\u001b[0m\u001b[0m\n\u001b[1;32m      8\u001b[0m \u001b[0;34m\u001b[0m\u001b[0m\n\u001b[0;32m----> 9\u001b[0;31m \u001b[0mmodel\u001b[0m\u001b[0;34m.\u001b[0m\u001b[0mtrain\u001b[0m\u001b[0;34m(\u001b[0m\u001b[0msentences\u001b[0m \u001b[0;34m=\u001b[0m \u001b[0mtokenized_resumes\u001b[0m\u001b[0;34m,\u001b[0m \u001b[0mtotal_examples\u001b[0m\u001b[0;34m=\u001b[0m\u001b[0mmodel\u001b[0m\u001b[0;34m.\u001b[0m\u001b[0mcorpus_count\u001b[0m\u001b[0;34m,\u001b[0m \u001b[0mepochs\u001b[0m \u001b[0;34m=\u001b[0m \u001b[0;36m10\u001b[0m\u001b[0;34m)\u001b[0m\u001b[0;34m\u001b[0m\u001b[0;34m\u001b[0m\u001b[0m\n\u001b[0m",
      "\u001b[0;32m~/anaconda3/lib/python3.8/site-packages/gensim/models/word2vec.py\u001b[0m in \u001b[0;36mtrain\u001b[0;34m(self, corpus_iterable, corpus_file, total_examples, total_words, epochs, start_alpha, end_alpha, word_count, queue_factor, report_delay, compute_loss, callbacks, **kwargs)\u001b[0m\n\u001b[1;32m   1033\u001b[0m \u001b[0;34m\u001b[0m\u001b[0m\n\u001b[1;32m   1034\u001b[0m         \u001b[0mself\u001b[0m\u001b[0;34m.\u001b[0m\u001b[0m_check_training_sanity\u001b[0m\u001b[0;34m(\u001b[0m\u001b[0mepochs\u001b[0m\u001b[0;34m=\u001b[0m\u001b[0mepochs\u001b[0m\u001b[0;34m,\u001b[0m \u001b[0mtotal_examples\u001b[0m\u001b[0;34m=\u001b[0m\u001b[0mtotal_examples\u001b[0m\u001b[0;34m,\u001b[0m \u001b[0mtotal_words\u001b[0m\u001b[0;34m=\u001b[0m\u001b[0mtotal_words\u001b[0m\u001b[0;34m)\u001b[0m\u001b[0;34m\u001b[0m\u001b[0;34m\u001b[0m\u001b[0m\n\u001b[0;32m-> 1035\u001b[0;31m         \u001b[0mself\u001b[0m\u001b[0;34m.\u001b[0m\u001b[0m_check_corpus_sanity\u001b[0m\u001b[0;34m(\u001b[0m\u001b[0mcorpus_iterable\u001b[0m\u001b[0;34m=\u001b[0m\u001b[0mcorpus_iterable\u001b[0m\u001b[0;34m,\u001b[0m \u001b[0mcorpus_file\u001b[0m\u001b[0;34m=\u001b[0m\u001b[0mcorpus_file\u001b[0m\u001b[0;34m,\u001b[0m \u001b[0mpasses\u001b[0m\u001b[0;34m=\u001b[0m\u001b[0mepochs\u001b[0m\u001b[0;34m)\u001b[0m\u001b[0;34m\u001b[0m\u001b[0;34m\u001b[0m\u001b[0m\n\u001b[0m\u001b[1;32m   1036\u001b[0m \u001b[0;34m\u001b[0m\u001b[0m\n\u001b[1;32m   1037\u001b[0m         self.add_lifecycle_event(\n",
      "\u001b[0;32m~/anaconda3/lib/python3.8/site-packages/gensim/models/word2vec.py\u001b[0m in \u001b[0;36m_check_corpus_sanity\u001b[0;34m(self, corpus_iterable, corpus_file, passes)\u001b[0m\n\u001b[1;32m   1484\u001b[0m         \u001b[0;34m\"\"\"Checks whether the corpus parameters make sense.\"\"\"\u001b[0m\u001b[0;34m\u001b[0m\u001b[0;34m\u001b[0m\u001b[0m\n\u001b[1;32m   1485\u001b[0m         \u001b[0;32mif\u001b[0m \u001b[0mcorpus_file\u001b[0m \u001b[0;32mis\u001b[0m \u001b[0;32mNone\u001b[0m \u001b[0;32mand\u001b[0m \u001b[0mcorpus_iterable\u001b[0m \u001b[0;32mis\u001b[0m \u001b[0;32mNone\u001b[0m\u001b[0;34m:\u001b[0m\u001b[0;34m\u001b[0m\u001b[0;34m\u001b[0m\u001b[0m\n\u001b[0;32m-> 1486\u001b[0;31m             \u001b[0;32mraise\u001b[0m \u001b[0mTypeError\u001b[0m\u001b[0;34m(\u001b[0m\u001b[0;34m\"Either one of corpus_file or corpus_iterable value must be provided\"\u001b[0m\u001b[0;34m)\u001b[0m\u001b[0;34m\u001b[0m\u001b[0;34m\u001b[0m\u001b[0m\n\u001b[0m\u001b[1;32m   1487\u001b[0m         \u001b[0;32mif\u001b[0m \u001b[0mcorpus_file\u001b[0m \u001b[0;32mis\u001b[0m \u001b[0;32mnot\u001b[0m \u001b[0;32mNone\u001b[0m \u001b[0;32mand\u001b[0m \u001b[0mcorpus_iterable\u001b[0m \u001b[0;32mis\u001b[0m \u001b[0;32mnot\u001b[0m \u001b[0;32mNone\u001b[0m\u001b[0;34m:\u001b[0m\u001b[0;34m\u001b[0m\u001b[0;34m\u001b[0m\u001b[0m\n\u001b[1;32m   1488\u001b[0m             \u001b[0;32mraise\u001b[0m \u001b[0mTypeError\u001b[0m\u001b[0;34m(\u001b[0m\u001b[0;34m\"Both corpus_file and corpus_iterable must not be provided at the same time\"\u001b[0m\u001b[0;34m)\u001b[0m\u001b[0;34m\u001b[0m\u001b[0;34m\u001b[0m\u001b[0m\n",
      "\u001b[0;31mTypeError\u001b[0m: Either one of corpus_file or corpus_iterable value must be provided"
     ]
    }
   ],
   "source": [
    "modelDir = projectDir + 'models/'\n",
    "os.chdir(modelDir)\n",
    "\n",
    "model = gensim.models.Word2Vec(tokenized_resumes, window=12, min_count=5, negative=15, \n",
    "               workers=multiprocessing.cpu_count())\n",
    "\n",
    "#model.intersect_word2vec_format('GoogleNews-vectors-negative300.bin.gz', lockf=1.0, binary=True)\n",
    "\n",
    "model.train(sentences = tokenized_resumes, total_examples=model.corpus_count, epochs = 10)"
   ]
  },
  {
   "cell_type": "code",
   "execution_count": 14,
   "metadata": {},
   "outputs": [
    {
     "name": "stdout",
     "output_type": "stream",
     "text": [
      "Most Similar to 'math' : \n",
      " [('sat', 0.864653468132019), ('mathematics', 0.8590817451477051), ('physics', 0.854873538017273), ('biology', 0.8523549437522888), ('chemistry', 0.8406847715377808)]\n",
      "Most Similar to 'account' : \n",
      " [('accounts', 0.7490583658218384), ('ar', 0.6663609147071838), ('ap', 0.6388786435127258), ('receivables', 0.6364730596542358), ('billing', 0.624541699886322)]\n",
      "Most Similar to 'data' : \n",
      " [('database', 0.7684621214866638), ('using', 0.6983391642570496), ('spreadsheet', 0.6860949397087097), ('static', 0.6848419308662415), ('used', 0.6704270243644714)]\n",
      "Most Similar to 'algorithm' : \n",
      " [('we', 0.9246804714202881), ('resumes', 0.9058302044868469), ('ranking', 0.9051111340522766), ('tf', 0.9038750529289246), ('recommender', 0.9038248658180237)]\n",
      "Most Similar to 'engineer' : \n",
      " [('fmcg', 0.7429562211036682), ('apparel', 0.7380902171134949), ('electronics', 0.7357223033905029), ('corp', 0.7321823835372925), ('sony', 0.7308485507965088)]\n",
      "Most Similar to 'supervised' : \n",
      " [('coached', 0.7753370404243469), ('mentored', 0.7690082788467407), ('interns', 0.7157846689224243), ('guided', 0.7154866456985474), ('guide', 0.6993710398674011)]\n"
     ]
    }
   ],
   "source": [
    "word_vectors = model.wv\n",
    "result = word_vectors.similar_by_word(\"math\")\n",
    "print(\"Most Similar to 'math' : \\n\", result[:5])\n",
    "\n",
    "result = word_vectors.similar_by_word(\"account\")\n",
    "print(\"Most Similar to 'account' : \\n\", result[:5])\n",
    "\n",
    "result = word_vectors.similar_by_word(\"data\")\n",
    "print(\"Most Similar to 'data' : \\n\", result[:5])\n",
    "\n",
    "result = word_vectors.similar_by_word(\"algorithm\")\n",
    "print(\"Most Similar to 'algorithm' : \\n\", result[:5])\n",
    "\n",
    "result = word_vectors.similar_by_word(\"engineer\")\n",
    "print(\"Most Similar to 'engineer' : \\n\", result[:5])\n",
    "\n",
    "result = word_vectors.similar_by_word(\"supervised\")\n",
    "print(\"Most Similar to 'supervised' : \\n\", result[:5])"
   ]
  },
  {
   "cell_type": "code",
   "execution_count": 15,
   "metadata": {},
   "outputs": [
    {
     "ename": "TypeError",
     "evalue": "'Word2Vec' object is not subscriptable",
     "output_type": "error",
     "traceback": [
      "\u001b[0;31m---------------------------------------------------------------------------\u001b[0m",
      "\u001b[0;31mTypeError\u001b[0m                                 Traceback (most recent call last)",
      "\u001b[0;32m<ipython-input-15-145407fb78d7>\u001b[0m in \u001b[0;36m<module>\u001b[0;34m\u001b[0m\n\u001b[0;32m----> 1\u001b[0;31m \u001b[0mprint\u001b[0m\u001b[0;34m(\u001b[0m\u001b[0mmodel\u001b[0m\u001b[0;34m[\u001b[0m\u001b[0;34m'supervision'\u001b[0m\u001b[0;34m]\u001b[0m\u001b[0;34m)\u001b[0m\u001b[0;34m\u001b[0m\u001b[0;34m\u001b[0m\u001b[0m\n\u001b[0m",
      "\u001b[0;31mTypeError\u001b[0m: 'Word2Vec' object is not subscriptable"
     ]
    }
   ],
   "source": [
    "print(model['supervision'])"
   ]
  },
  {
   "cell_type": "code",
   "execution_count": 16,
   "metadata": {},
   "outputs": [
    {
     "name": "stderr",
     "output_type": "stream",
     "text": [
      "<ipython-input-16-10fd9dc6e112>:3: DeprecationWarning: Call to deprecated `init_sims` (Gensim 4.0.0 implemented internal optimizations that make calls to init_sims() unnecessary. init_sims() is now obsoleted and will be completely removed in future versions. See https://github.com/RaRe-Technologies/gensim/wiki/Migrating-from-Gensim-3.x-to-4).\n",
      "  model.init_sims(replace=True)\n"
     ]
    }
   ],
   "source": [
    "modelDir = projectDir + 'models/'\n",
    "os.chdir(modelDir)\n",
    "model.init_sims(replace=True)\n",
    "#SAVE THE MODEL\n",
    "model_name = \"model_skill_extraction\"\n",
    "model.save(model_name)"
   ]
  },
  {
   "cell_type": "code",
   "execution_count": 19,
   "metadata": {},
   "outputs": [
    {
     "ename": "AttributeError",
     "evalue": "'KeyedVectors' object has no attribute 'syn0'",
     "output_type": "error",
     "traceback": [
      "\u001b[0;31m---------------------------------------------------------------------------\u001b[0m",
      "\u001b[0;31mAttributeError\u001b[0m                            Traceback (most recent call last)",
      "\u001b[0;32m<ipython-input-19-3da5ed0c6b32>\u001b[0m in \u001b[0;36m<module>\u001b[0;34m\u001b[0m\n\u001b[0;32m----> 1\u001b[0;31m \u001b[0mZ\u001b[0m \u001b[0;34m=\u001b[0m \u001b[0mmodel\u001b[0m\u001b[0;34m.\u001b[0m\u001b[0mwv\u001b[0m\u001b[0;34m.\u001b[0m\u001b[0msyn0\u001b[0m\u001b[0;34m\u001b[0m\u001b[0;34m\u001b[0m\u001b[0m\n\u001b[0m\u001b[1;32m      2\u001b[0m \u001b[0mprint\u001b[0m\u001b[0;34m(\u001b[0m\u001b[0mZ\u001b[0m\u001b[0;34m[\u001b[0m\u001b[0;36m0\u001b[0m\u001b[0;34m]\u001b[0m\u001b[0;34m.\u001b[0m\u001b[0mshape\u001b[0m\u001b[0;34m)\u001b[0m\u001b[0;34m\u001b[0m\u001b[0;34m\u001b[0m\u001b[0m\n\u001b[1;32m      3\u001b[0m \u001b[0mZ\u001b[0m\u001b[0;34m[\u001b[0m\u001b[0;36m0\u001b[0m\u001b[0;34m]\u001b[0m\u001b[0;34m\u001b[0m\u001b[0;34m\u001b[0m\u001b[0m\n",
      "\u001b[0;31mAttributeError\u001b[0m: 'KeyedVectors' object has no attribute 'syn0'"
     ]
    }
   ],
   "source": [
    "Z = model.wv.syn0\n",
    "print(Z[0].shape)\n",
    "Z[0]"
   ]
  },
  {
   "cell_type": "code",
   "execution_count": 24,
   "metadata": {},
   "outputs": [
    {
     "ename": "FileNotFoundError",
     "evalue": "[Errno 2] No such file or directory: 'GoogleNews-vectors-negative300.bin.gz'",
     "output_type": "error",
     "traceback": [
      "\u001b[0;31m---------------------------------------------------------------------------\u001b[0m",
      "\u001b[0;31mFileNotFoundError\u001b[0m                         Traceback (most recent call last)",
      "\u001b[0;32m<ipython-input-24-d8c2da1f55a4>\u001b[0m in \u001b[0;36m<module>\u001b[0;34m\u001b[0m\n\u001b[1;32m      1\u001b[0m \u001b[0;32mfrom\u001b[0m \u001b[0mgensim\u001b[0m \u001b[0;32mimport\u001b[0m \u001b[0mmodels\u001b[0m\u001b[0;34m\u001b[0m\u001b[0;34m\u001b[0m\u001b[0m\n\u001b[0;32m----> 2\u001b[0;31m \u001b[0mw\u001b[0m \u001b[0;34m=\u001b[0m \u001b[0mKeyedVectors\u001b[0m\u001b[0;34m.\u001b[0m\u001b[0mload_word2vec_format\u001b[0m\u001b[0;34m(\u001b[0m\u001b[0;34m\"GoogleNews-vectors-negative300.bin.gz\"\u001b[0m\u001b[0;34m,\u001b[0m \u001b[0mbinary\u001b[0m\u001b[0;34m=\u001b[0m\u001b[0;32mTrue\u001b[0m\u001b[0;34m)\u001b[0m\u001b[0;34m\u001b[0m\u001b[0;34m\u001b[0m\u001b[0m\n\u001b[0m\u001b[1;32m      3\u001b[0m \u001b[0mprint\u001b[0m \u001b[0;34m(\u001b[0m\u001b[0mw\u001b[0m\u001b[0;34m[\u001b[0m\u001b[0;34m\"queen\"\u001b[0m\u001b[0;34m]\u001b[0m\u001b[0;34m)\u001b[0m\u001b[0;34m\u001b[0m\u001b[0;34m\u001b[0m\u001b[0m\n",
      "\u001b[0;32m~/anaconda3/lib/python3.8/site-packages/gensim/models/keyedvectors.py\u001b[0m in \u001b[0;36mload_word2vec_format\u001b[0;34m(cls, fname, fvocab, binary, encoding, unicode_errors, limit, datatype, no_header)\u001b[0m\n\u001b[1;32m   1628\u001b[0m \u001b[0;34m\u001b[0m\u001b[0m\n\u001b[1;32m   1629\u001b[0m         \"\"\"\n\u001b[0;32m-> 1630\u001b[0;31m         return _load_word2vec_format(\n\u001b[0m\u001b[1;32m   1631\u001b[0m             \u001b[0mcls\u001b[0m\u001b[0;34m,\u001b[0m \u001b[0mfname\u001b[0m\u001b[0;34m,\u001b[0m \u001b[0mfvocab\u001b[0m\u001b[0;34m=\u001b[0m\u001b[0mfvocab\u001b[0m\u001b[0;34m,\u001b[0m \u001b[0mbinary\u001b[0m\u001b[0;34m=\u001b[0m\u001b[0mbinary\u001b[0m\u001b[0;34m,\u001b[0m \u001b[0mencoding\u001b[0m\u001b[0;34m=\u001b[0m\u001b[0mencoding\u001b[0m\u001b[0;34m,\u001b[0m \u001b[0municode_errors\u001b[0m\u001b[0;34m=\u001b[0m\u001b[0municode_errors\u001b[0m\u001b[0;34m,\u001b[0m\u001b[0;34m\u001b[0m\u001b[0;34m\u001b[0m\u001b[0m\n\u001b[1;32m   1632\u001b[0m             \u001b[0mlimit\u001b[0m\u001b[0;34m=\u001b[0m\u001b[0mlimit\u001b[0m\u001b[0;34m,\u001b[0m \u001b[0mdatatype\u001b[0m\u001b[0;34m=\u001b[0m\u001b[0mdatatype\u001b[0m\u001b[0;34m,\u001b[0m \u001b[0mno_header\u001b[0m\u001b[0;34m=\u001b[0m\u001b[0mno_header\u001b[0m\u001b[0;34m,\u001b[0m\u001b[0;34m\u001b[0m\u001b[0;34m\u001b[0m\u001b[0m\n",
      "\u001b[0;32m~/anaconda3/lib/python3.8/site-packages/gensim/models/keyedvectors.py\u001b[0m in \u001b[0;36m_load_word2vec_format\u001b[0;34m(cls, fname, fvocab, binary, encoding, unicode_errors, limit, datatype, no_header, binary_chunk_size)\u001b[0m\n\u001b[1;32m   1890\u001b[0m \u001b[0;34m\u001b[0m\u001b[0m\n\u001b[1;32m   1891\u001b[0m     \u001b[0mlogger\u001b[0m\u001b[0;34m.\u001b[0m\u001b[0minfo\u001b[0m\u001b[0;34m(\u001b[0m\u001b[0;34m\"loading projection weights from %s\"\u001b[0m\u001b[0;34m,\u001b[0m \u001b[0mfname\u001b[0m\u001b[0;34m)\u001b[0m\u001b[0;34m\u001b[0m\u001b[0;34m\u001b[0m\u001b[0m\n\u001b[0;32m-> 1892\u001b[0;31m     \u001b[0;32mwith\u001b[0m \u001b[0mutils\u001b[0m\u001b[0;34m.\u001b[0m\u001b[0mopen\u001b[0m\u001b[0;34m(\u001b[0m\u001b[0mfname\u001b[0m\u001b[0;34m,\u001b[0m \u001b[0;34m'rb'\u001b[0m\u001b[0;34m)\u001b[0m \u001b[0;32mas\u001b[0m \u001b[0mfin\u001b[0m\u001b[0;34m:\u001b[0m\u001b[0;34m\u001b[0m\u001b[0;34m\u001b[0m\u001b[0m\n\u001b[0m\u001b[1;32m   1893\u001b[0m         \u001b[0;32mif\u001b[0m \u001b[0mno_header\u001b[0m\u001b[0;34m:\u001b[0m\u001b[0;34m\u001b[0m\u001b[0;34m\u001b[0m\u001b[0m\n\u001b[1;32m   1894\u001b[0m             \u001b[0;31m# deduce both vocab_size & vector_size from 1st pass over file\u001b[0m\u001b[0;34m\u001b[0m\u001b[0;34m\u001b[0m\u001b[0;34m\u001b[0m\u001b[0m\n",
      "\u001b[0;32m~/anaconda3/lib/python3.8/site-packages/smart_open/smart_open_lib.py\u001b[0m in \u001b[0;36mopen\u001b[0;34m(uri, mode, buffering, encoding, errors, newline, closefd, opener, ignore_ext, transport_params)\u001b[0m\n\u001b[1;32m    220\u001b[0m     \u001b[0;31m#\u001b[0m\u001b[0;34m\u001b[0m\u001b[0;34m\u001b[0m\u001b[0;34m\u001b[0m\u001b[0m\n\u001b[1;32m    221\u001b[0m     \u001b[0mbinary_mode\u001b[0m \u001b[0;34m=\u001b[0m \u001b[0m_TO_BINARY_LUT\u001b[0m\u001b[0;34m.\u001b[0m\u001b[0mget\u001b[0m\u001b[0;34m(\u001b[0m\u001b[0mmode\u001b[0m\u001b[0;34m,\u001b[0m \u001b[0mmode\u001b[0m\u001b[0;34m)\u001b[0m\u001b[0;34m\u001b[0m\u001b[0;34m\u001b[0m\u001b[0m\n\u001b[0;32m--> 222\u001b[0;31m     \u001b[0mbinary\u001b[0m \u001b[0;34m=\u001b[0m \u001b[0m_open_binary_stream\u001b[0m\u001b[0;34m(\u001b[0m\u001b[0muri\u001b[0m\u001b[0;34m,\u001b[0m \u001b[0mbinary_mode\u001b[0m\u001b[0;34m,\u001b[0m \u001b[0mtransport_params\u001b[0m\u001b[0;34m)\u001b[0m\u001b[0;34m\u001b[0m\u001b[0;34m\u001b[0m\u001b[0m\n\u001b[0m\u001b[1;32m    223\u001b[0m     \u001b[0;32mif\u001b[0m \u001b[0mignore_ext\u001b[0m\u001b[0;34m:\u001b[0m\u001b[0;34m\u001b[0m\u001b[0;34m\u001b[0m\u001b[0m\n\u001b[1;32m    224\u001b[0m         \u001b[0mdecompressed\u001b[0m \u001b[0;34m=\u001b[0m \u001b[0mbinary\u001b[0m\u001b[0;34m\u001b[0m\u001b[0;34m\u001b[0m\u001b[0m\n",
      "\u001b[0;32m~/anaconda3/lib/python3.8/site-packages/smart_open/smart_open_lib.py\u001b[0m in \u001b[0;36m_open_binary_stream\u001b[0;34m(uri, mode, transport_params)\u001b[0m\n\u001b[1;32m    322\u001b[0m     \u001b[0mscheme\u001b[0m \u001b[0;34m=\u001b[0m \u001b[0m_sniff_scheme\u001b[0m\u001b[0;34m(\u001b[0m\u001b[0muri\u001b[0m\u001b[0;34m)\u001b[0m\u001b[0;34m\u001b[0m\u001b[0;34m\u001b[0m\u001b[0m\n\u001b[1;32m    323\u001b[0m     \u001b[0msubmodule\u001b[0m \u001b[0;34m=\u001b[0m \u001b[0mtransport\u001b[0m\u001b[0;34m.\u001b[0m\u001b[0mget_transport\u001b[0m\u001b[0;34m(\u001b[0m\u001b[0mscheme\u001b[0m\u001b[0;34m)\u001b[0m\u001b[0;34m\u001b[0m\u001b[0;34m\u001b[0m\u001b[0m\n\u001b[0;32m--> 324\u001b[0;31m     \u001b[0mfobj\u001b[0m \u001b[0;34m=\u001b[0m \u001b[0msubmodule\u001b[0m\u001b[0;34m.\u001b[0m\u001b[0mopen_uri\u001b[0m\u001b[0;34m(\u001b[0m\u001b[0muri\u001b[0m\u001b[0;34m,\u001b[0m \u001b[0mmode\u001b[0m\u001b[0;34m,\u001b[0m \u001b[0mtransport_params\u001b[0m\u001b[0;34m)\u001b[0m\u001b[0;34m\u001b[0m\u001b[0;34m\u001b[0m\u001b[0m\n\u001b[0m\u001b[1;32m    325\u001b[0m     \u001b[0;32mif\u001b[0m \u001b[0;32mnot\u001b[0m \u001b[0mhasattr\u001b[0m\u001b[0;34m(\u001b[0m\u001b[0mfobj\u001b[0m\u001b[0;34m,\u001b[0m \u001b[0;34m'name'\u001b[0m\u001b[0;34m)\u001b[0m\u001b[0;34m:\u001b[0m\u001b[0;34m\u001b[0m\u001b[0;34m\u001b[0m\u001b[0m\n\u001b[1;32m    326\u001b[0m         \u001b[0mfobj\u001b[0m\u001b[0;34m.\u001b[0m\u001b[0mname\u001b[0m \u001b[0;34m=\u001b[0m \u001b[0muri\u001b[0m\u001b[0;34m\u001b[0m\u001b[0;34m\u001b[0m\u001b[0m\n",
      "\u001b[0;32m~/anaconda3/lib/python3.8/site-packages/smart_open/local_file.py\u001b[0m in \u001b[0;36mopen_uri\u001b[0;34m(uri_as_string, mode, transport_params)\u001b[0m\n\u001b[1;32m     32\u001b[0m \u001b[0;32mdef\u001b[0m \u001b[0mopen_uri\u001b[0m\u001b[0;34m(\u001b[0m\u001b[0muri_as_string\u001b[0m\u001b[0;34m,\u001b[0m \u001b[0mmode\u001b[0m\u001b[0;34m,\u001b[0m \u001b[0mtransport_params\u001b[0m\u001b[0;34m)\u001b[0m\u001b[0;34m:\u001b[0m\u001b[0;34m\u001b[0m\u001b[0;34m\u001b[0m\u001b[0m\n\u001b[1;32m     33\u001b[0m     \u001b[0mparsed_uri\u001b[0m \u001b[0;34m=\u001b[0m \u001b[0mparse_uri\u001b[0m\u001b[0;34m(\u001b[0m\u001b[0muri_as_string\u001b[0m\u001b[0;34m)\u001b[0m\u001b[0;34m\u001b[0m\u001b[0;34m\u001b[0m\u001b[0m\n\u001b[0;32m---> 34\u001b[0;31m     \u001b[0mfobj\u001b[0m \u001b[0;34m=\u001b[0m \u001b[0mio\u001b[0m\u001b[0;34m.\u001b[0m\u001b[0mopen\u001b[0m\u001b[0;34m(\u001b[0m\u001b[0mparsed_uri\u001b[0m\u001b[0;34m[\u001b[0m\u001b[0;34m'uri_path'\u001b[0m\u001b[0;34m]\u001b[0m\u001b[0;34m,\u001b[0m \u001b[0mmode\u001b[0m\u001b[0;34m)\u001b[0m\u001b[0;34m\u001b[0m\u001b[0;34m\u001b[0m\u001b[0m\n\u001b[0m\u001b[1;32m     35\u001b[0m     \u001b[0;32mreturn\u001b[0m \u001b[0mfobj\u001b[0m\u001b[0;34m\u001b[0m\u001b[0;34m\u001b[0m\u001b[0m\n\u001b[1;32m     36\u001b[0m \u001b[0;34m\u001b[0m\u001b[0m\n",
      "\u001b[0;31mFileNotFoundError\u001b[0m: [Errno 2] No such file or directory: 'GoogleNews-vectors-negative300.bin.gz'"
     ]
    }
   ],
   "source": [
    "from gensim import models\n",
    "w = KeyedVectors.load_word2vec_format(\"GoogleNews-vectors-negative300.bin.gz\", binary=True)\n",
    "print (w[\"queen\"])"
   ]
  },
  {
   "cell_type": "code",
   "execution_count": 29,
   "metadata": {},
   "outputs": [
    {
     "name": "stdout",
     "output_type": "stream",
     "text": [
      "\u001b[0m\u001b[01;34mdata\u001b[0m/  \u001b[01;34mjupyter-notebooks\u001b[0m/  LICENSE  \u001b[01;34mmodels\u001b[0m/  \u001b[01;34moutput\u001b[0m/  README.md\r\n"
     ]
    }
   ],
   "source": [
    "%pwd\n",
    "%ls"
   ]
  },
  {
   "cell_type": "code",
   "execution_count": 30,
   "metadata": {},
   "outputs": [
    {
     "name": "stdout",
     "output_type": "stream",
     "text": [
      "/home/arpit/Desktop/nlp_project/Resume-Scoring-using-NLP-master/Extraction-of-Skills-master/jupyter-notebooks\n"
     ]
    }
   ],
   "source": [
    "%cd jupyter-notebooks"
   ]
  },
  {
   "cell_type": "code",
   "execution_count": 1,
   "metadata": {},
   "outputs": [
    {
     "data": {
      "text/plain": [
       "'/home/arpit/Desktop/nlp_project/Resume-Scoring-using-NLP-master/Extraction-of-Skills-master/jupyter-notebooks'"
      ]
     },
     "execution_count": 1,
     "metadata": {},
     "output_type": "execute_result"
    }
   ],
   "source": [
    "%pwd"
   ]
  },
  {
   "cell_type": "code",
   "execution_count": null,
   "metadata": {},
   "outputs": [],
   "source": []
  }
 ],
 "metadata": {
  "kernelspec": {
   "display_name": "Python 3",
   "language": "python",
   "name": "python3"
  },
  "language_info": {
   "codemirror_mode": {
    "name": "ipython",
    "version": 3
   },
   "file_extension": ".py",
   "mimetype": "text/x-python",
   "name": "python",
   "nbconvert_exporter": "python",
   "pygments_lexer": "ipython3",
   "version": "3.8.5"
  }
 },
 "nbformat": 4,
 "nbformat_minor": 4
}
