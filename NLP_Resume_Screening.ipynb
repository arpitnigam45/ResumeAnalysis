{
  "nbformat": 4,
  "nbformat_minor": 0,
  "metadata": {
    "colab": {
      "name": "NLP_Resume_Screening.ipynb",
      "provenance": [],
      "collapsed_sections": [
        "jHvImIA2C8Oe"
      ],
      "toc_visible": true,
      "include_colab_link": true
    },
    "kernelspec": {
      "name": "python3",
      "display_name": "Python 3"
    },
    "language_info": {
      "name": "python"
    }
  },
  "cells": [
    {
      "cell_type": "markdown",
      "metadata": {
        "id": "view-in-github",
        "colab_type": "text"
      },
      "source": [
        "<a href=\"https://colab.research.google.com/github/arpitnigam45/ResumeAnalysis/blob/main/NLP_Resume_Screening.ipynb\" target=\"_parent\"><img src=\"https://colab.research.google.com/assets/colab-badge.svg\" alt=\"Open In Colab\"/></a>"
      ]
    },
    {
      "cell_type": "code",
      "metadata": {
        "colab": {
          "base_uri": "https://localhost:8080/"
        },
        "id": "GysC-eHFIjhn",
        "outputId": "98fbbbbd-cee2-41af-c43f-0c52ac5119b5"
      },
      "source": [
        "from google.colab import drive\n",
        "drive.mount('/content/drive')"
      ],
      "execution_count": null,
      "outputs": [
        {
          "output_type": "stream",
          "text": [
            "Drive already mounted at /content/drive; to attempt to forcibly remount, call drive.mount(\"/content/drive\", force_remount=True).\n"
          ],
          "name": "stdout"
        }
      ]
    },
    {
      "cell_type": "markdown",
      "metadata": {
        "id": "tFdR9b65wgQo"
      },
      "source": [
        "#Pre-processing"
      ]
    },
    {
      "cell_type": "code",
      "metadata": {
        "colab": {
          "base_uri": "https://localhost:8080/"
        },
        "id": "5XnfpaLMzVo4",
        "outputId": "243e7780-be16-420a-ac9d-26b7735ee3a9"
      },
      "source": [
        "!pip install PyPDF2\n",
        "!pip install python-docx\n",
        "!pip install textract\n",
        "!apt-get install python-dev libxml2-dev libxslt1-dev antiword unrtf poppler-utils pstotext tesseract-ocr \\\n",
        "flac ffmpeg lame libmad0 libsox-fmt-mp3 sox libjpeg-dev swig\n",
        "!pip install -U nltk\n",
        "!pip install wget\n",
        "!wget -c \"https://s3.amazonaws.com/dl4j-distribution/GoogleNews-vectors-negative300.bin.gz\"\n",
        "!pip install matplotlib\n",
        "!pip install pandas\n",
        "!pip install wordcloud\n",
        "!pip install pdfminer3"
      ],
      "execution_count": null,
      "outputs": [
        {
          "output_type": "stream",
          "text": [
            "Requirement already satisfied: PyPDF2 in /usr/local/lib/python3.7/dist-packages (1.26.0)\n",
            "Requirement already satisfied: python-docx in /usr/local/lib/python3.7/dist-packages (0.8.10)\n",
            "Requirement already satisfied: lxml>=2.3.2 in /usr/local/lib/python3.7/dist-packages (from python-docx) (4.2.6)\n",
            "Requirement already satisfied: textract in /usr/local/lib/python3.7/dist-packages (1.6.3)\n",
            "Requirement already satisfied: python-pptx==0.6.18 in /usr/local/lib/python3.7/dist-packages (from textract) (0.6.18)\n",
            "Requirement already satisfied: xlrd==1.2.0 in /usr/local/lib/python3.7/dist-packages (from textract) (1.2.0)\n",
            "Requirement already satisfied: beautifulsoup4==4.8.0 in /usr/local/lib/python3.7/dist-packages (from textract) (4.8.0)\n",
            "Requirement already satisfied: SpeechRecognition==3.8.1 in /usr/local/lib/python3.7/dist-packages (from textract) (3.8.1)\n",
            "Requirement already satisfied: docx2txt==0.8 in /usr/local/lib/python3.7/dist-packages (from textract) (0.8)\n",
            "Requirement already satisfied: chardet==3.0.4 in /usr/local/lib/python3.7/dist-packages (from textract) (3.0.4)\n",
            "Requirement already satisfied: six==1.12.0 in /usr/local/lib/python3.7/dist-packages (from textract) (1.12.0)\n",
            "Requirement already satisfied: extract-msg==0.23.1 in /usr/local/lib/python3.7/dist-packages (from textract) (0.23.1)\n",
            "Requirement already satisfied: EbookLib==0.17.1 in /usr/local/lib/python3.7/dist-packages (from textract) (0.17.1)\n",
            "Requirement already satisfied: argcomplete==1.10.0 in /usr/local/lib/python3.7/dist-packages (from textract) (1.10.0)\n",
            "Requirement already satisfied: pdfminer.six==20181108 in /usr/local/lib/python3.7/dist-packages (from textract) (20181108)\n",
            "Requirement already satisfied: lxml>=3.1.0 in /usr/local/lib/python3.7/dist-packages (from python-pptx==0.6.18->textract) (4.2.6)\n",
            "Requirement already satisfied: XlsxWriter>=0.5.7 in /usr/local/lib/python3.7/dist-packages (from python-pptx==0.6.18->textract) (1.3.8)\n",
            "Requirement already satisfied: Pillow>=3.3.2 in /usr/local/lib/python3.7/dist-packages (from python-pptx==0.6.18->textract) (7.1.2)\n",
            "Requirement already satisfied: soupsieve>=1.2 in /usr/local/lib/python3.7/dist-packages (from beautifulsoup4==4.8.0->textract) (2.2.1)\n",
            "Requirement already satisfied: tzlocal==1.5.1 in /usr/local/lib/python3.7/dist-packages (from extract-msg==0.23.1->textract) (1.5.1)\n",
            "Requirement already satisfied: imapclient==2.1.0 in /usr/local/lib/python3.7/dist-packages (from extract-msg==0.23.1->textract) (2.1.0)\n",
            "Requirement already satisfied: olefile==0.46 in /usr/local/lib/python3.7/dist-packages (from extract-msg==0.23.1->textract) (0.46)\n",
            "Requirement already satisfied: sortedcontainers in /usr/local/lib/python3.7/dist-packages (from pdfminer.six==20181108->textract) (2.3.0)\n",
            "Requirement already satisfied: pycryptodome in /usr/local/lib/python3.7/dist-packages (from pdfminer.six==20181108->textract) (3.10.1)\n",
            "Requirement already satisfied: pytz in /usr/local/lib/python3.7/dist-packages (from tzlocal==1.5.1->extract-msg==0.23.1->textract) (2018.9)\n",
            "Reading package lists... Done\n",
            "Building dependency tree       \n",
            "Reading state information... Done\n",
            "libjpeg-dev is already the newest version (8c-2ubuntu8).\n",
            "python-dev is already the newest version (2.7.15~rc1-1).\n",
            "antiword is already the newest version (0.37-11build1).\n",
            "flac is already the newest version (1.3.2-1).\n",
            "lame is already the newest version (3.100-2).\n",
            "pstotext is already the newest version (1.9-6build1).\n",
            "swig is already the newest version (3.0.12-1).\n",
            "tesseract-ocr is already the newest version (4.00~git2288-10f4998a-2).\n",
            "unrtf is already the newest version (0.21.9-clean-3).\n",
            "libxml2-dev is already the newest version (2.9.4+dfsg1-6.1ubuntu1.3).\n",
            "libxslt1-dev is already the newest version (1.1.29-5ubuntu0.2).\n",
            "poppler-utils is already the newest version (0.62.0-2ubuntu2.12).\n",
            "ffmpeg is already the newest version (7:3.4.8-0ubuntu0.2).\n",
            "libmad0 is already the newest version (0.15.1b-9ubuntu18.04.1).\n",
            "libsox-fmt-mp3 is already the newest version (14.4.2-3ubuntu0.18.04.1).\n",
            "sox is already the newest version (14.4.2-3ubuntu0.18.04.1).\n",
            "0 upgraded, 0 newly installed, 0 to remove and 31 not upgraded.\n",
            "Requirement already up-to-date: nltk in /usr/local/lib/python3.7/dist-packages (3.6.1)\n",
            "Requirement already satisfied, skipping upgrade: tqdm in /usr/local/lib/python3.7/dist-packages (from nltk) (4.41.1)\n",
            "Requirement already satisfied, skipping upgrade: click in /usr/local/lib/python3.7/dist-packages (from nltk) (7.1.2)\n",
            "Requirement already satisfied, skipping upgrade: regex in /usr/local/lib/python3.7/dist-packages (from nltk) (2019.12.20)\n",
            "Requirement already satisfied, skipping upgrade: joblib in /usr/local/lib/python3.7/dist-packages (from nltk) (1.0.1)\n",
            "Requirement already satisfied: wget in /usr/local/lib/python3.7/dist-packages (3.2)\n",
            "--2021-04-13 06:54:56--  https://s3.amazonaws.com/dl4j-distribution/GoogleNews-vectors-negative300.bin.gz\n",
            "Resolving s3.amazonaws.com (s3.amazonaws.com)... 52.217.131.80\n",
            "Connecting to s3.amazonaws.com (s3.amazonaws.com)|52.217.131.80|:443... connected.\n",
            "HTTP request sent, awaiting response... 416 Requested Range Not Satisfiable\n",
            "\n",
            "    The file is already fully retrieved; nothing to do.\n",
            "\n",
            "Requirement already satisfied: matplotlib in /usr/local/lib/python3.7/dist-packages (3.2.2)\n",
            "Requirement already satisfied: pyparsing!=2.0.4,!=2.1.2,!=2.1.6,>=2.0.1 in /usr/local/lib/python3.7/dist-packages (from matplotlib) (2.4.7)\n",
            "Requirement already satisfied: cycler>=0.10 in /usr/local/lib/python3.7/dist-packages (from matplotlib) (0.10.0)\n",
            "Requirement already satisfied: python-dateutil>=2.1 in /usr/local/lib/python3.7/dist-packages (from matplotlib) (2.8.1)\n",
            "Requirement already satisfied: numpy>=1.11 in /usr/local/lib/python3.7/dist-packages (from matplotlib) (1.19.5)\n",
            "Requirement already satisfied: kiwisolver>=1.0.1 in /usr/local/lib/python3.7/dist-packages (from matplotlib) (1.3.1)\n",
            "Requirement already satisfied: six in /usr/local/lib/python3.7/dist-packages (from cycler>=0.10->matplotlib) (1.12.0)\n",
            "Requirement already satisfied: pandas in /usr/local/lib/python3.7/dist-packages (1.1.5)\n",
            "Requirement already satisfied: pytz>=2017.2 in /usr/local/lib/python3.7/dist-packages (from pandas) (2018.9)\n",
            "Requirement already satisfied: numpy>=1.15.4 in /usr/local/lib/python3.7/dist-packages (from pandas) (1.19.5)\n",
            "Requirement already satisfied: python-dateutil>=2.7.3 in /usr/local/lib/python3.7/dist-packages (from pandas) (2.8.1)\n",
            "Requirement already satisfied: six>=1.5 in /usr/local/lib/python3.7/dist-packages (from python-dateutil>=2.7.3->pandas) (1.12.0)\n",
            "Requirement already satisfied: wordcloud in /usr/local/lib/python3.7/dist-packages (1.5.0)\n",
            "Requirement already satisfied: pillow in /usr/local/lib/python3.7/dist-packages (from wordcloud) (7.1.2)\n",
            "Requirement already satisfied: numpy>=1.6.1 in /usr/local/lib/python3.7/dist-packages (from wordcloud) (1.19.5)\n",
            "Requirement already satisfied: pdfminer3 in /usr/local/lib/python3.7/dist-packages (2018.12.3.0)\n",
            "Requirement already satisfied: pycryptodome in /usr/local/lib/python3.7/dist-packages (from pdfminer3) (3.10.1)\n",
            "Requirement already satisfied: chardet in /usr/local/lib/python3.7/dist-packages (from pdfminer3) (3.0.4)\n",
            "Requirement already satisfied: sortedcontainers in /usr/local/lib/python3.7/dist-packages (from pdfminer3) (2.3.0)\n"
          ],
          "name": "stdout"
        }
      ]
    },
    {
      "cell_type": "code",
      "metadata": {
        "id": "eUBh0BaNyni_",
        "colab": {
          "base_uri": "https://localhost:8080/"
        },
        "outputId": "f2f9edc1-9df0-44a8-cff6-b2188d2faa68"
      },
      "source": [
        "import os\n",
        "import textract\n",
        "import docx\n",
        "from pdfminer3.layout import LAParams, LTTextBox\n",
        "from pdfminer3.pdfpage import PDFPage\n",
        "from pdfminer3.pdfinterp import PDFResourceManager\n",
        "from pdfminer3.pdfinterp import PDFPageInterpreter\n",
        "from pdfminer3.converter import PDFPageAggregator\n",
        "from pdfminer3.converter import TextConverter\n",
        "import io\n",
        "import nltk\n",
        "import pandas as pd\n",
        "nltk.download('stopwords')"
      ],
      "execution_count": null,
      "outputs": [
        {
          "output_type": "stream",
          "text": [
            "[nltk_data] Downloading package stopwords to /root/nltk_data...\n",
            "[nltk_data]   Package stopwords is already up-to-date!\n"
          ],
          "name": "stderr"
        },
        {
          "output_type": "execute_result",
          "data": {
            "text/plain": [
              "True"
            ]
          },
          "metadata": {
            "tags": []
          },
          "execution_count": 5
        }
      ]
    },
    {
      "cell_type": "code",
      "metadata": {
        "id": "9zvPX4Q9y-xE"
      },
      "source": [
        "resumeDir = '/content/drive/My Drive/data/raw_resume/'\n",
        "sk=pd.DataFrame()\n"
      ],
      "execution_count": null,
      "outputs": []
    },
    {
      "cell_type": "code",
      "metadata": {
        "id": "UyFxpIDVzUNB"
      },
      "source": [
        "def extract_phone_numbers(string):\n",
        "    r = re.compile(r'(\\d{3}[-\\.\\s]??\\d{3}[-\\.\\s]??\\d{4}|\\(\\d{3}\\)\\s*\\d{3}[-\\.\\s]??\\d{4}|\\d{3}[-\\.\\s]??\\d{4})')\n",
        "    phone_numbers = r.findall(string)\n",
        "    return [re.sub(r'\\D', '', number) for number in phone_numbers if len(number)==10]"
      ],
      "execution_count": null,
      "outputs": []
    },
    {
      "cell_type": "code",
      "metadata": {
        "id": "05VtPYe43xTx"
      },
      "source": [
        "def extract_email_addresses(string):\n",
        "    r = re.compile(r'[\\w\\.-]+@[\\w\\.-]+')\n",
        "    return r.findall(string)"
      ],
      "execution_count": null,
      "outputs": []
    },
    {
      "cell_type": "code",
      "metadata": {
        "id": "YGdkRga52GKo"
      },
      "source": [
        "def convert_pdf_to_txt(path):\n",
        "    resource_manager = PDFResourceManager()\n",
        "    fake_file_handle = io.StringIO()\n",
        "    converter = TextConverter(resource_manager, fake_file_handle, laparams=LAParams())\n",
        "    page_interpreter = PDFPageInterpreter(resource_manager, converter)\n",
        "\n",
        "    with open(path, 'rb') as fh:\n",
        "\n",
        "        for page in PDFPage.get_pages(fh,\n",
        "                                      caching=True,\n",
        "                                      check_extractable=True):\n",
        "            page_interpreter.process_page(page)\n",
        "\n",
        "        text = fake_file_handle.getvalue()\n",
        "\n",
        "    # close open handles\n",
        "    converter.close()\n",
        "    fake_file_handle.close()\n",
        "\n",
        "    return text\n"
      ],
      "execution_count": null,
      "outputs": []
    },
    {
      "cell_type": "code",
      "metadata": {
        "id": "u1VXIP6Q2L28"
      },
      "source": [
        "import re\n",
        "resumeTxt = []\n",
        "for filename in os.listdir(resumeDir):\n",
        "    if(filename.endswith(\".pdf\")):\n",
        "        try:\n",
        "            resumeTxt.append(convert_pdf_to_txt(resumeDir+filename))\n",
        "        except Exception:\n",
        "            print('Error reading .pdf file' + filename)\n",
        "    if(filename.endswith(\".docx\") and bool(re.search(r\"\\s\", filename)==False)):\n",
        "        try:\n",
        "            doc = docx.Document(resumeDir + filename)\n",
        "            data = \"\"\n",
        "            fullText = []\n",
        "            for para in doc.paragraphs:\n",
        "                fullText.append(para.text)\n",
        "                data = '\\n'.join(fullText)\n",
        "            resumeTxt.append(data)\n",
        "        except IOError:\n",
        "            print('Error reading .docx file' + filename)\n",
        "    if(filename.endswith(\".doc\")):\n",
        "        continue"
      ],
      "execution_count": null,
      "outputs": []
    },
    {
      "cell_type": "code",
      "metadata": {
        "id": "nih8X_s-3FFx",
        "colab": {
          "base_uri": "https://localhost:8080/"
        },
        "outputId": "d7822aba-2f21-4a42-be6b-c3fb20260c8b"
      },
      "source": [
        "  len(resumeTxt) "
      ],
      "execution_count": null,
      "outputs": [
        {
          "output_type": "execute_result",
          "data": {
            "text/plain": [
              "1035"
            ]
          },
          "metadata": {
            "tags": []
          },
          "execution_count": 76
        }
      ]
    },
    {
      "cell_type": "code",
      "metadata": {
        "colab": {
          "base_uri": "https://localhost:8080/"
        },
        "id": "hTyn0dX76hAO",
        "outputId": "6549adf4-9455-48da-ea98-63464cb99c27"
      },
      "source": [
        "print(resumeTxt[0])"
      ],
      "execution_count": null,
      "outputs": [
        {
          "output_type": "stream",
          "text": [
            "Richard Chua, CPA, CMA \n",
            "Vice President, Compliance Consulting and Internal Audit \n",
            "Contact Numbers: +65 8693 9228 \n",
            "E-mail address: richardachua@yahoo.com \n",
            " \n",
            " \n",
            " \n",
            "Executive Summary  \n",
            " \n",
            "Richard is a Certified Public Accountant and a Certified Management Accountant with a cumulative \n",
            "experience of almost 13 years in various finance, compliance and management role, almost 9 years \n",
            "of  which  are  from  external  audit  with  Ernst  &  Young.    Richard’s  overall  experience  ranges  from \n",
            "financial audit, financial analysis and reporting, internal controls reporting, compliance requirements \n",
            "and  operations  management.    His  main  expertise  is  in  the  asset  management  operation,  financial \n",
            "reporting  and  compliance.    He  has  notable  exposure  in  financial  reporting  assisting  clients  with \n",
            "complex  financial  reporting  issues  such  as  consolidation,  investment  valuation,  reviewing  financial \n",
            "statements  and  corresponding  disclosures.  He  is  proficient  in  IFRS,  SFRS  and  Australian \n",
            "Accounting Standards.  He has also extensive exposure in regulatory and compliance requirements \n",
            "for the wealth and asset management industry in Singapore. He specializes in Monetary Authority of \n",
            "Singapore  (MAS)  regulatory  compliance  advisory  and  audits  for  licensed  and  registered  fund \n",
            "management companies and experienced in monitoring and testing financial and internal controls in \n",
            "the asset management industry. \n",
            " \n",
            "In  his  various  roles,  Richard  has  consistently  been  commended  by  his  superiors  for  his  excellent \n",
            "work  habits,  valuable  contributions  to  the  firm/company  and  often  selected  for  special  projects \n",
            "requiring  special  attention  and  technical  competencies.  He  has  been  selected  for  several  special \n",
            "engagements and secondment. He also participated in recruitment and providing technical trainings. \n",
            " \n",
            "He  is  currently  serving  as  a  Vice  President  in  Compliance  Consulting  and  Internal  Audit  of  Duff  & \n",
            "Phelps  Regulatory  Services  (Singapore)  Pte.  Ltd.  where  he  advises  clients  on  MAS  compliance \n",
            "issues  in  relation  to  the  fund  management  industry  and  conducts  internal  audits  of  their  operation \n",
            "and compliance processes.   \n",
            " \n",
            "Prior to this, he served as an audit manager 3 in Ernst & Young Singapore.  His clients were mainly \n",
            "from the financial service industry with focus on wealth and asset management companies (private \n",
            "equity, hedge funds and fund manager companies), with exposure on retail banks and other financial \n",
            "institutions.   He has worked with the different offices of Ernst & Young from Manila, Philippines to \n",
            "Singapore and Sydney Australia.   \n",
            " \n",
            "He  also  served  as  an  AVP  in  Retail  Banking  Segment,  Finance/Special  Projects  of  Security  Bank \n",
            "Corporation, a local commercial bank in Philippines, providing financial analysis, financial reporting \n",
            "and managing special projects initiated by the retail banking segment in the Bank’s aspiration to be \n",
            "the best retail bank in Philippines.   \n",
            " \n",
            "Prior  to  joining  Ernst  &  Young  and  Security  Bank  Corporation,  he  also  served  in  various \n",
            "finance/accounting  functions.    He  enjoys  interacting  with  different  people,  an  excellent  manager,  a \n",
            "team player and is a diligent person. He responds well in fast-paced, high-pressure environment and \n",
            "values excellence in his career. \n",
            "\n",
            "\fRichard Chua’s CV, page 2 of 4 \n",
            " \n",
            "WORK EXPERIENCE \n",
            " \n",
            "Vice President, Compliance Consulting and Internal Audit \n",
            "Duff & Phelps Regulatory Services (Singapore) Pte. Ltd. \n",
            "June 2016 to present \n",
            " \n",
            "  Review  and  drafting  of  compliance  and  operations  manuals,  quarterly  and  annual  MAS \n",
            "\n",
            "financial forms and CMS applications for fund management clients; \n",
            "\n",
            "  Research  and  advise  for  MAS  SFA  FAA  related  compliance  queries  from  fund \n",
            "\n",
            "management clients as part of monthly client retainer; \n",
            "\n",
            "  Conduct internal audits covering client daily operations (trade process, front to back office) \n",
            "and  compliance  processes  and  drafting  of  internal  audit  findings  report  for  fund \n",
            "management clients; \n",
            "\n",
            "  Development  of  company  compliance  and  internal  audit  checklists/templates  for  the \n",
            "\n",
            " \n",
            "\n",
            "conduct of compliance review and internal audits; \n",
            "Assisted  a  private  bank  in  review  and  gap  analysis  of  its  compliance  policies  against \n",
            "Singapore regulatory requirements; \n",
            "\n",
            "Assist in the organization of compliance related talks for clients and other service providers; \n",
            "\n",
            "  Composition of CRS article for website publication and client distribution; \n",
            "  Conducted AML and compliance trainings for clients; \n",
            " \n",
            " \n",
            "Audit Manager 3 \n",
            "October 2014 to June 2016 - Ernst & Young (Singapore) \n",
            "August 2005 to May 2012 – Ernst & Young (Manila, Singapore & Sydney) \n",
            " \n",
            "  Selected  to  perform  audit  of  a  Chairman’s  account  and  successfully  delivered  key  client \n",
            "\n",
            " \n",
            "\n",
            "deliverables on a very tight deadline; \n",
            "Involved  in  the  area  initiative  to  offshore  work  to  EY  Philippines;  Selected  to  pilot  the  first \n",
            "engagement to be offshored to EY Philippines; \n",
            "\n",
            "  Conducting technical and soft skills training for local and offshore staffs; \n",
            "  Selected to perform the audits of one the most complex private equities and hedge funds in \n",
            "\n",
            "the team and successfully delivering key client deliverables; \n",
            "\n",
            "  Selected  for  inter-office  secondment  to  the  Sydney,  Australia  office,  Wealth  and  Asset \n",
            "Management  industry  amongst  the  asset  management  team;  Selected  to  perform  special \n",
            "due diligence engagement for a Singapore Bank’s subsidiary in Mumbai, India; \n",
            "\n",
            "  Developed  a  simplified  template  for  equalisation  accounting  computation  for  fund  profit  & \n",
            "\n",
            "loss allocation and performance fee calculation; \n",
            "\n",
            "  Organised hedge fund symposium conducted for clients and industry practitioners including \n",
            "\n",
            "coordination of speakers, attendees, suppliers and collateral production.  \n",
            "\n",
            " \n",
            "Financial Audits \n",
            "  Specialized in the financial audits of companies in the asset management industry, such as \n",
            "hedge  funds,  private  equity,  fund  management  companies;  Exposure  in  financial  audits  of \n",
            "retail banks, wealth management and other financial institutions; \n",
            "\n",
            "  Proficient  with  Singapore  Financial  Reporting  Standards  (FRS),  International  FRS,  US \n",
            "\n",
            "GAAP and Australian Accounting Standards; \n",
            "\n",
            "\fRichard Chua’s CV, page 3 of 4 \n",
            "  Managing  the  review  and  evaluation  of  internal  control  procedures  and  recommending \n",
            "\n",
            "improvements thereto by raising management letter points; \n",
            "\n",
            "  Overseeing  the  review  of  client’s  financial  statements,  annual  report,  annual  income  tax  \n",
            "returns  and  other  reports  required  by  regulatory  bodies  and  discussing  financial  reports, \n",
            "management letters, proposed adjustments and other reports with client’s management; \n",
            "\n",
            "  Reviewing  investment  valuations  provided  by  client  against  independent  sources  or \n",
            "\n",
            "reviewing the basis for valuation; \n",
            "\n",
            "  Overall  management  of  the  various  audit  engagements  including  planning,  staffing \n",
            "management,  engagement  economics,  coordination  with  other  E&Y  offices  and  technical \n",
            "teams such as tax and compliance and performance appraisal of the team. \n",
            "\n",
            " \n",
            "Regulatory Reporting and Compliance \n",
            "  Planning  and  conducting  compliance  review  of  regulated  financial  institutions  with  Capital \n",
            "Market  Services  (CMS)  license,  Registered  Fund  Management  Companies  (RFMC)  and \n",
            "Trust  Business  license  status.  Reviewed  client’s  compliance  with  rules  and  regulations  as \n",
            "prescribed under the Securities & Futures Act, Trust Companies Act and related guidelines \n",
            "as prescribed by the MAS and SGX Listing requirements;  \n",
            "\n",
            "  Assisted  Australian  clients  with  various  regulatory  matters,  including  APS  310  audits, \n",
            "\n",
            "Australian Financial Services License and Managed Discretionary Accounts compliance. \n",
            "\n",
            " \n",
            "AVP – Retail Banking Segment Special Projects & Finance \n",
            "Security Bank Corporation \n",
            "Jan 2014 – Oct 2014 \n",
            "\n",
            " \n",
            "\n",
            "  Preparation  and  review  of  various  financial  budgets  and  models  within  the  retail  banking \n",
            "segment  including  monthly  and  quarterly  performance  reviews,  annual  budget,  five  year \n",
            "projections  based  on  management  direction  and  assumptions  and  financial  models  for  the \n",
            "various retail banking segment initiatives;  \n",
            "\n",
            "  Project  coordination  for  Special  Projects  related  to  the  retail  bank  segment  initiatives \n",
            "including  lean  branch  initiative,  performance  management,  capacity  modelling,  and \n",
            "rebranding; \n",
            "\n",
            "  Project  coordination  for  the  sale  of  subsidiary  bank  branches  to  the  parent  company \n",
            "including  financial  projections,  presentation,  logistics  coordination,  issues  monitoring  and \n",
            "resolution with departments/personnel involved; \n",
            "\n",
            "  Supported the Retail Banking Segment Head in preparation of materials for presentations to \n",
            "key  audiences  such  as  the  Board  of  Directors,  Shareholders,  Chairman  and  President  for \n",
            "management’s periodic financial updates of projects and key initiatives. \n",
            "\n",
            " \n",
            " \n",
            "Various Finance Experiences Prior to Audit \n",
            "  Aug 2002 to April 2005: Accounting Officer for Etelecare Global Solutions, Inc. (Call Center \n",
            "Industries  (Furniture \n",
            "\n",
            "for  Alphawood \n",
            "\n",
            "Services)  and  Assistant  Accounting  Manager \n",
            "Manufacturing) \n",
            " \n",
            "\n",
            "\fRichard Chua’s CV, page 4 of 4 \n",
            " \n",
            "CERTIFICATIONS TAKEN & PROFESSIONAL AFFILIATION \n",
            " \n",
            "June 2005 \n",
            " \n",
            "\n",
            " \n",
            "\n",
            "Certified Management Accountant (C.M.A.) Examination \n",
            "CMA member, Institute of Certified Management Accountants (ICMA),  \n",
            "Australia \n",
            "\n",
            "Certified Public Accountants (C.P.A.) Licensure Examination \n",
            "Member, Philippine Institute of Certified Accountants (PICPA) \n",
            "\n",
            " \n",
            "\n",
            " \n",
            "May 2002  \n",
            " \n",
            " \n",
            " \n",
            "ACADEMIC QUALIFICATIONS \n",
            " \n",
            "1998-2001   DE LA SALLE UNIVERSITY \n",
            "  \n",
            "\n",
            " \n",
            "\n",
            " \n",
            " \n",
            "REFERENCES  \n",
            " \n",
            "\n",
            "Available upon request \n",
            "\n",
            "Bachelor of Science in Commerce, Major in Accountancy, December 2001,  \n",
            "Dean’s List: 1st and 3rd term, SY 1998-1999; 1st term SY 2000-2001. \n",
            "\n",
            "\f\n"
          ],
          "name": "stdout"
        }
      ]
    },
    {
      "cell_type": "code",
      "metadata": {
        "id": "QJBBjY8Z7r6K"
      },
      "source": [
        "email=list()\n",
        "phone=list()\n",
        "for resume in resumeTxt:\n",
        "    tok_resume = ''\n",
        "    for tok in resume:\n",
        "        tok_resume = tok_resume + tok + ' '\n",
        "    email.append(extract_email_addresses(resume))\n",
        "    phone.append(extract_phone_numbers(resume))"
      ],
      "execution_count": null,
      "outputs": []
    },
    {
      "cell_type": "code",
      "metadata": {
        "id": "28ErTRsL71Ak"
      },
      "source": [
        "sk.insert(0,\"Phone\",phone,True)\n",
        "sk.insert(0,\"Email\",email,True)"
      ],
      "execution_count": null,
      "outputs": []
    },
    {
      "cell_type": "code",
      "metadata": {
        "id": "S6LCCm28-Wqh"
      },
      "source": [
        "from nltk.corpus import stopwords\n",
        "sw = set(stopwords.words('english'))"
      ],
      "execution_count": null,
      "outputs": []
    },
    {
      "cell_type": "code",
      "metadata": {
        "id": "jTBoTC---k38"
      },
      "source": [
        "resumeTxtNoStopword = []\n",
        "\n",
        "for resume in resumeTxt:\n",
        "    text = resume\n",
        "    text = text.split()\n",
        "    useful_words = [w for w in text if w not in sw]\n",
        "    resumeTxtNoStopword.append(\" \".join(useful_words))"
      ],
      "execution_count": null,
      "outputs": []
    },
    {
      "cell_type": "code",
      "metadata": {
        "colab": {
          "base_uri": "https://localhost:8080/"
        },
        "id": "lnO0SHYM-7Xk",
        "outputId": "abc5144a-0740-435a-8b8b-89836aee13b9"
      },
      "source": [
        "len(resumeTxtNoStopword)"
      ],
      "execution_count": null,
      "outputs": [
        {
          "output_type": "execute_result",
          "data": {
            "text/plain": [
              "1035"
            ]
          },
          "metadata": {
            "tags": []
          },
          "execution_count": 82
        }
      ]
    },
    {
      "cell_type": "code",
      "metadata": {
        "id": "kDu_n5iN_Cdu"
      },
      "source": [
        "import re\n",
        "def tokenize(text):\n",
        "    # obtains tokens with a least 1 alphabet\n",
        "    pattern = re.compile(r'[A-Za-z]+-?[\\w^\\']*|[\\w^\\']*[A-Za-z]+[\\w^\\']*')\n",
        "    return pattern.findall(text.lower())"
      ],
      "execution_count": null,
      "outputs": []
    },
    {
      "cell_type": "code",
      "metadata": {
        "id": "dpRfREOM_I_d"
      },
      "source": [
        "i = 0\n",
        "tokenized_resumes = []\n",
        "for resume in resumeTxtNoStopword:\n",
        "    r = tokenize(resume)\n",
        "    tokenized_resumes.append(r)\n",
        "    i += 1"
      ],
      "execution_count": null,
      "outputs": []
    },
    {
      "cell_type": "code",
      "metadata": {
        "colab": {
          "base_uri": "https://localhost:8080/"
        },
        "id": "2P5hywxY_NR4",
        "outputId": "d3caceb5-6e83-4c90-8753-6cbb09e656f2"
      },
      "source": [
        "print(tokenized_resumes[:3])"
      ],
      "execution_count": null,
      "outputs": [
        {
          "output_type": "stream",
          "text": [
            "[['richard', 'chua', 'cpa', 'cma', 'vice', 'president', 'compliance', 'consulting', 'internal', 'audit', 'contact', 'numbers', 'e-mail', 'address', 'richardachua', 'yahoo', 'com', 'executive', 'summary', 'richard', 'certified', 'public', 'accountant', 'certified', 'management', 'accountant', 'cumulative', 'experience', 'almost', 'years', 'various', 'finance', 'compliance', 'management', 'role', 'almost', 'years', 'external', 'audit', 'ernst', 'young', 'richard', 's', 'overall', 'experience', 'ranges', 'financial', 'audit', 'financial', 'analysis', 'reporting', 'internal', 'controls', 'reporting', 'compliance', 'requirements', 'operations', 'management', 'his', 'main', 'expertise', 'asset', 'management', 'operation', 'financial', 'reporting', 'compliance', 'he', 'notable', 'exposure', 'financial', 'reporting', 'assisting', 'clients', 'complex', 'financial', 'reporting', 'issues', 'consolidation', 'investment', 'valuation', 'reviewing', 'financial', 'statements', 'corresponding', 'disclosures', 'he', 'proficient', 'ifrs', 'sfrs', 'australian', 'accounting', 'standards', 'he', 'also', 'extensive', 'exposure', 'regulatory', 'compliance', 'requirements', 'wealth', 'asset', 'management', 'industry', 'singapore', 'he', 'specializes', 'monetary', 'authority', 'singapore', 'mas', 'regulatory', 'compliance', 'advisory', 'audits', 'licensed', 'registered', 'fund', 'management', 'companies', 'experienced', 'monitoring', 'testing', 'financial', 'internal', 'controls', 'asset', 'management', 'industry', 'in', 'various', 'roles', 'richard', 'consistently', 'commended', 'superiors', 'excellent', 'work', 'habits', 'valuable', 'contributions', 'firm', 'company', 'often', 'selected', 'special', 'projects', 'requiring', 'special', 'attention', 'technical', 'competencies', 'he', 'selected', 'several', 'special', 'engagements', 'secondment', 'he', 'also', 'participated', 'recruitment', 'providing', 'technical', 'trainings', 'he', 'currently', 'serving', 'vice', 'president', 'compliance', 'consulting', 'internal', 'audit', 'duff', 'phelps', 'regulatory', 'services', 'singapore', 'pte', 'ltd', 'advises', 'clients', 'mas', 'compliance', 'issues', 'relation', 'fund', 'management', 'industry', 'conducts', 'internal', 'audits', 'operation', 'compliance', 'processes', 'prior', 'this', 'served', 'audit', 'manager', 'ernst', 'young', 'singapore', 'his', 'clients', 'mainly', 'financial', 'service', 'industry', 'focus', 'wealth', 'asset', 'management', 'companies', 'private', 'equity', 'hedge', 'funds', 'fund', 'manager', 'companies', 'exposure', 'retail', 'banks', 'financial', 'institutions', 'he', 'worked', 'different', 'offices', 'ernst', 'young', 'manila', 'philippines', 'singapore', 'sydney', 'australia', 'he', 'also', 'served', 'avp', 'retail', 'banking', 'segment', 'finance', 'special', 'projects', 'security', 'bank', 'corporation', 'local', 'commercial', 'bank', 'philippines', 'providing', 'financial', 'analysis', 'financial', 'reporting', 'managing', 'special', 'projects', 'initiated', 'retail', 'banking', 'segment', 'bank', 's', 'aspiration', 'best', 'retail', 'bank', 'philippines', 'prior', 'joining', 'ernst', 'young', 'security', 'bank', 'corporation', 'also', 'served', 'various', 'finance', 'accounting', 'functions', 'he', 'enjoys', 'interacting', 'different', 'people', 'excellent', 'manager', 'team', 'player', 'diligent', 'person', 'he', 'responds', 'well', 'fast-paced', 'high-pressure', 'environment', 'values', 'excellence', 'career', 'richard', 'chua', 's', 'cv', 'page', 'work', 'experience', 'vice', 'president', 'compliance', 'consulting', 'internal', 'audit', 'duff', 'phelps', 'regulatory', 'services', 'singapore', 'pte', 'ltd', 'june', 'present', 'review', 'drafting', 'compliance', 'operations', 'manuals', 'quarterly', 'annual', 'mas', 'financial', 'forms', 'cms', 'applications', 'fund', 'management', 'clients', 'research', 'advise', 'mas', 'sfa', 'faa', 'related', 'compliance', 'queries', 'fund', 'management', 'clients', 'part', 'monthly', 'client', 'retainer', 'conduct', 'internal', 'audits', 'covering', 'client', 'daily', 'operations', 'trade', 'process', 'front', 'back', 'office', 'compliance', 'processes', 'drafting', 'internal', 'audit', 'findings', 'report', 'fund', 'management', 'clients', 'development', 'company', 'compliance', 'internal', 'audit', 'checklists', 'templates', 'conduct', 'compliance', 'review', 'internal', 'audits', 'assisted', 'private', 'bank', 'review', 'gap', 'analysis', 'compliance', 'policies', 'singapore', 'regulatory', 'requirements', 'assist', 'organization', 'compliance', 'related', 'talks', 'clients', 'service', 'providers', 'composition', 'crs', 'article', 'website', 'publication', 'client', 'distribution', 'conducted', 'aml', 'compliance', 'trainings', 'clients', 'audit', 'manager', 'october', 'june', 'ernst', 'young', 'singapore', 'august', 'may', 'ernst', 'young', 'manila', 'singapore', 'sydney', 'selected', 'perform', 'audit', 'chairman', 's', 'account', 'successfully', 'delivered', 'key', 'client', 'deliverables', 'tight', 'deadline', 'involved', 'area', 'initiative', 'offshore', 'work', 'ey', 'philippines', 'selected', 'pilot', 'first', 'engagement', 'offshored', 'ey', 'philippines', 'conducting', 'technical', 'soft', 'skills', 'training', 'local', 'offshore', 'staffs', 'selected', 'perform', 'audits', 'one', 'complex', 'private', 'equities', 'hedge', 'funds', 'team', 'successfully', 'delivering', 'key', 'client', 'deliverables', 'selected', 'inter-office', 'secondment', 'sydney', 'australia', 'office', 'wealth', 'asset', 'management', 'industry', 'amongst', 'asset', 'management', 'team', 'selected', 'perform', 'special', 'due', 'diligence', 'engagement', 'singapore', 'bank', 's', 'subsidiary', 'mumbai', 'india', 'developed', 'simplified', 'template', 'equalisation', 'accounting', 'computation', 'fund', 'profit', 'loss', 'allocation', 'performance', 'fee', 'calculation', 'organised', 'hedge', 'fund', 'symposium', 'conducted', 'clients', 'industry', 'practitioners', 'including', 'coordination', 'speakers', 'attendees', 'suppliers', 'collateral', 'production', 'financial', 'audits', 'specialized', 'financial', 'audits', 'companies', 'asset', 'management', 'industry', 'hedge', 'funds', 'private', 'equity', 'fund', 'management', 'companies', 'exposure', 'financial', 'audits', 'retail', 'banks', 'wealth', 'management', 'financial', 'institutions', 'proficient', 'singapore', 'financial', 'reporting', 'standards', 'frs', 'international', 'frs', 'us', 'gaap', 'australian', 'accounting', 'standards', 'richard', 'chua', 's', 'cv', 'page', 'managing', 'review', 'evaluation', 'internal', 'control', 'procedures', 'recommending', 'improvements', 'thereto', 'raising', 'management', 'letter', 'points', 'overseeing', 'review', 'client', 's', 'financial', 'statements', 'annual', 'report', 'annual', 'income', 'tax', 'returns', 'reports', 'required', 'regulatory', 'bodies', 'discussing', 'financial', 'reports', 'management', 'letters', 'proposed', 'adjustments', 'reports', 'client', 's', 'management', 'reviewing', 'investment', 'valuations', 'provided', 'client', 'independent', 'sources', 'reviewing', 'basis', 'valuation', 'overall', 'management', 'various', 'audit', 'engagements', 'including', 'planning', 'staffing', 'management', 'engagement', 'economics', 'coordination', 'e', 'y', 'offices', 'technical', 'teams', 'tax', 'compliance', 'performance', 'appraisal', 'team', 'regulatory', 'reporting', 'compliance', 'planning', 'conducting', 'compliance', 'review', 'regulated', 'financial', 'institutions', 'capital', 'market', 'services', 'cms', 'license', 'registered', 'fund', 'management', 'companies', 'rfmc', 'trust', 'business', 'license', 'status', 'reviewed', 'client', 's', 'compliance', 'rules', 'regulations', 'prescribed', 'securities', 'futures', 'act', 'trust', 'companies', 'act', 'related', 'guidelines', 'prescribed', 'mas', 'sgx', 'listing', 'requirements', 'assisted', 'australian', 'clients', 'various', 'regulatory', 'matters', 'including', 'aps', 'audits', 'australian', 'financial', 'services', 'license', 'managed', 'discretionary', 'accounts', 'compliance', 'avp', 'retail', 'banking', 'segment', 'special', 'projects', 'finance', 'security', 'bank', 'corporation', 'jan', 'oct', 'preparation', 'review', 'various', 'financial', 'budgets', 'models', 'within', 'retail', 'banking', 'segment', 'including', 'monthly', 'quarterly', 'performance', 'reviews', 'annual', 'budget', 'five', 'year', 'projections', 'based', 'management', 'direction', 'assumptions', 'financial', 'models', 'various', 'retail', 'banking', 'segment', 'initiatives', 'project', 'coordination', 'special', 'projects', 'related', 'retail', 'bank', 'segment', 'initiatives', 'including', 'lean', 'branch', 'initiative', 'performance', 'management', 'capacity', 'modelling', 'rebranding', 'project', 'coordination', 'sale', 'subsidiary', 'bank', 'branches', 'parent', 'company', 'including', 'financial', 'projections', 'presentation', 'logistics', 'coordination', 'issues', 'monitoring', 'resolution', 'departments', 'personnel', 'involved', 'supported', 'retail', 'banking', 'segment', 'head', 'preparation', 'materials', 'presentations', 'key', 'audiences', 'board', 'directors', 'shareholders', 'chairman', 'president', 'management', 's', 'periodic', 'financial', 'updates', 'projects', 'key', 'initiatives', 'various', 'finance', 'experiences', 'prior', 'audit', 'aug', 'april', 'accounting', 'officer', 'etelecare', 'global', 'solutions', 'inc', 'call', 'center', 'industries', 'furniture', 'alphawood', 'services', 'assistant', 'accounting', 'manager', 'manufacturing', 'richard', 'chua', 's', 'cv', 'page', 'certifications', 'taken', 'professional', 'affiliation', 'june', 'certified', 'management', 'accountant', 'c', 'm', 'a', 'examination', 'cma', 'member', 'institute', 'certified', 'management', 'accountants', 'icma', 'australia', 'certified', 'public', 'accountants', 'c', 'p', 'a', 'licensure', 'examination', 'member', 'philippine', 'institute', 'certified', 'accountants', 'picpa', 'may', 'academic', 'qualifications', 'de', 'la', 'salle', 'university', 'references', 'available', 'upon', 'request', 'bachelor', 'science', 'commerce', 'major', 'accountancy', 'december', 'dean', 's', 'list', '1st', '3rd', 'term', 'sy', '1st', 'term', 'sy'], ['christine', 'low', 'email', 'christine', 'lowth', 'gmail', 'com', 'mobile', 'no', 'fund', 'accountant', 'meticulous', 'fund', 'accountant', 'undertakes', 'funds', 'meets', 'tight', 'deadlines', 'delivers', 'good', 'performance', 'processes', 'knowledge', 'currently', 'performs', 'hands-on', 'private', 'equity', 'fund', 'accounting', 'well', 'partial', 'review', 'work', 'operates', 'strong', 'sense', 'urgency', 'able', 'take', 'new', 'funds', 'needed', 'fund', 'accountant', 'analyst', 'ii', 'fund', 'administration', 'services', 'present', 'conifer', 'asset', 'solutions', 'pte', 'ltd', 'citibank', 'n', 'a', 'citco', 'fund', 'services', 's', 'pte', 'ltd', 'portcullis', 'fund', 'administration', 's', 'pte', 'ltd', 'singapore', 'general', 'tasks', 'performed', 'administration', 'services', 'pursuant', 'administration', 'agreement', 'professional', 'experience', 'respect', 'respect', 'portfolio', 'hedge', 'funds', 'private', 'equity', 'funds', 'assisted', 'manager', 'review', 'work', 'provide', 'guidance', 'junior', 'colleagues', 'appointed', 'liaison', 'officer', 'mas', 'provide', 'periodic', 'returns', 'surveys', 'kept', 'directors', 'informed', 'updates', 'mas', 'reviewed', 'banking', 'instructions', 'payment', 'fees', 'redemption', 'maintained', 'day-to', 'day', 'relationships', 'investment', 'managers', 'brokers', 'auditor', 'fund', 'participants', 'private', 'equity', 'funds', 'responsible', 'providing', 'accounting', 'services', 'clients', 'including', 'prepared', 'capital', 'call', 'distribution', 'allocations', 'notices', 'prepared', 'quarterly', 'financial', 'statements', 'partners', 'capital', 'statement', 'irr', 'calculation', 'waterfall', 'true-up', 'management', 'fee', 'calculations', 'monitor', 'maintained', 'partners', 'registers', 'handled', 'partners', 'queries', 'hedge', 'funds', 'performed', 'net', 'asset', 'valuation', 'nav', 'calculations', 'financial', 'statements', 'associated', 'reports', 'endowment', 'hedge', 'funds', 'assisted', 'auditors', 'preparing', 'annual', 'reports', 'performed', 'due', 'diligence', 'check', 'ensured', 'documents', 'order', 'dealt', 'subscription', 'redemption', 'shareholder', 'transactions', 'monitored', 'underlying', 'private', 'equity', 'pe', 'investments', 'performed', 'reconciliation', 'verified', 'pricing', 'securities', 'prepared', 'month', 'end', 'pricing', 'underlying', 'funds-of', 'funds', 'pe', 'investments', 'monitored', 'funds-of', 'funds', 'custody', 'positions', 'achievements', 'special', 'project', 'established', 'procedures', 'bond', 'accruals', 'module', 'ensure', 'accruals', 'accurately', 'recorded', 'this', 'demonstrated', 'time', 'saving', 'fraction', 'time', 'taken', 'teams', 'assisted', 'implementation', 'procedures', 'ensure', 'accurate', 'timely', 'price', 'check', 'migrated', 'us', 'funds', 'clients', 'portfolios', 'singapore', 'successfully', 'completed', 'nav', 'calculation', 'new', 'client', 'year', 'transactions', 'christine', 'low', 'finance', 'executive', 'jtc', 'corporation', 'real', 'estate', 'singapore', 'worked', 'business', 'stakeholders', 'review', 'billing', 'requests', 'ensured', 'proper', 'lease', 'documentations', 'place', 'processed', 'accurate', 'prompt', 'billing', 'bi-', 'monthly', 'basis', 'assisted', 'arrears', 'recovery', 'work', 'preparing', 'debt', 'collection', 'plan', 'participated', 'uat', 'testing', 'system', 'upgrade', 'it', 'professional', 'experiences', 'it', 'helpdesk', 'support', 'aia', 'co', 'ltd', 'national', 'library', 'board', 'singapore', 'provided', 'prompt', 'phone', 'email', 'support', 'level', 'support', 'well', 'on-site', 'remotely', 'application', 'hardware', 'support', 'liaised', 'vendors', 'ensure', 'proper', 'maintenance', 'systems', 'analyst', 'programmer', 'jast', 'techniques', 'ptd', 'ltd', 'japanese', 'it', 'service', 'company', 'singapore', 'determined', 'information', 'needs', 'business', 'requirements', 'clients', 'involved', 'design', 'development', 'implementation', 'maintenance', 'customized', 'applications', 'acted', 'first', 'contact', 'person', 'clients', 'provided', 'post-implementation', 'support', 'resolved', 'technical', 'issues', 'conducted', 'users', 'training', 'prepare', 'operation', 'user', 'guides', 'worked', 'closely', 'teams', 'service', 'vendors', 'meet', 'high', 'service', 'deliverables', 'education', 'certificate', 'fund', 'administration', 'nyp', 'school', 'business', 'management', 'bsc', 'applied', 'accounting', 'upper', 'second', 'class', 'honours', 'oxford', 'brookes', 'university', 'diploma', 'information', 'technology', 'temasek', 'polytechnic', 'technical', 'skills', 'proficient', 'microsoft', 'office', 'suite', 'geneva', 'paxus', 'sap', 'references', 'available', 'request'], ['lu', 'yu', 'contact', 'details', 'email', 'yulu', 'application', 'gmail', 'com', 'mobile', 'education', 'judge', 'business', 'school', 'university', 'cambridge', 'united', 'kingdom', 'master', 'finance', 'gmat', 'top', 'group', 'consulting', 'project', 'sourced', 'investment', 'opportunities', 'uk', 'jjr', 'capital', 'a', 'newly', 'established', 'private', 'equity', 'firm', 'equity', 'research', 'project', 'produced', 'investment', 'analysis', 'recommendation', 'associated', 'british', 'foods', 'a', 'company', 'listed', 'london', 'stock', 'exchange', 'department', 'accountancy', 'city', 'university', 'hong', 'kong', 'hong', 'kong', 'bba', 'hons', 'accountancy', 'gpa', 'first', 'class', 'honours', 'dean', 's', 'list', 'hksar', 'government', 'scholarship', 'recipient', 'acca', 'hong', 'kong', 'placement', 'scholarship', 'recipient', 'chartered', 'institute', 'management', 'accountants', 'prize', 'recipient', 'cityu', 'mainland', 'student', 'scholarship', 'recipient', 'semester', 'a', 'kent', 'business', 'school', 'university', 'kent', 'united', 'kingdom', 'undergraduate', 'fulltime', 'exchange', 'student', 'professional', 'experience', 'pricewaterhousecoopers', 'hong', 'kong', 'senior', 'associate', 'assurance', 'practice', 'achieved', 'high', 'performer', 'annual', 'performance', 'evaluations', 'top', 'led', 'year', 'end', 'audits', 'interim', 'reviews', 'served', 'clients', 'across', 'various', 'industries', 'including', 'logistics', 'transportation', 'convention', 'exhibition', 'construction', 'lift', 'installation', 'maintenance', 'retail', 'companies', 'communicated', 'client', 'management', 'various', 'departments', 'purchase', 'production', 'sale', 'accounting', 'payroll', 'understand', 'business', 'processes', 'activities', 'identify', 'risks', 'evaluated', 'operating', 'effectiveness', 'internal', 'controls', 'performed', 'analysis', 'financial', 'statements', 'tested', 'transactions', 'account', 'balances', 'disclosures', 'prepared', 'audit', 'reports', 'set', 'audit', 'plan', 'monitored', 'progress', 'team', 'members', 'visited', 'associates', 'joint', 'ventures', 'mainland', 'china', 'toll', 'road', 'nanjing', 'reviewed', 'financial', 'performance', 'communicated', 'pwc', 'overseas', 'offices', '3rd', 'parties', 'professional', 'summer', 'grant', 'thornton', 'singapore', 'valuation', 'firms', 'trainee', 'assurance', 'business', 'advisory', 'department', 'assisted', 'colleagues', 'financial', 'statements', 'analysis', 'performed', 'sample', 'testings', 'cash', 'counts', 'additional', 'information', 'languages', 'mandarin', 'native', 'english', 'fluent', 'cantonese', 'fluent', 'professional', 'certified', 'public', 'accountant', 'qualifications', 'chartered', 'financial', 'analyst', 'level', 'ii', 'candidate', 'volunteer', 'experience', 'interests', 'volunteer', 'orbis', 'moonwalkers', 'raise', 'fund', 'blind', 'volunteer', 'city', 'youth', 'empowerment', 'project', 'help', 'children', 'poor', 'families', 'studies', 'piano', '8th', 'grade', 'certified', 'chinese', 'musician', 'association', 'wine', 'tasting', 'wset', 'level', 'award', 'wines', 'spirits', 'travelling']]\n"
          ],
          "name": "stdout"
        }
      ]
    },
    {
      "cell_type": "code",
      "metadata": {
        "id": "G6WT6NFL_SSP"
      },
      "source": [
        "txt_file = '/content/drive/My Drive/data/clean_resume/resume'"
      ],
      "execution_count": null,
      "outputs": []
    },
    {
      "cell_type": "code",
      "metadata": {
        "id": "zy91O7-0_2vY"
      },
      "source": [
        "i = 0\n",
        "for resume in tokenized_resumes:\n",
        "    tok_resume = ''\n",
        "    for tok in resume:\n",
        "        tok_resume = tok_resume + tok + ' '\n",
        "    file = open(txt_file + str(i), 'w+')\n",
        "    file.writelines(tok_resume)\n",
        "    file.close()\n",
        "    i += 1"
      ],
      "execution_count": null,
      "outputs": []
    },
    {
      "cell_type": "markdown",
      "metadata": {
        "id": "jHvImIA2C8Oe"
      },
      "source": [
        "#Model Building\n"
      ]
    },
    {
      "cell_type": "code",
      "metadata": {
        "id": "rs52UMWzFNp8"
      },
      "source": [
        "from gensim.models.phrases import Phrases, Phraser\n",
        "from collections import defaultdict\n",
        "import multiprocessing\n",
        "from gensim.models import Word2Vec\n",
        "import time"
      ],
      "execution_count": null,
      "outputs": []
    },
    {
      "cell_type": "code",
      "metadata": {
        "id": "m4b-8LjZX7Si"
      },
      "source": [
        "#self\n",
        "sent = [row for row in tokenized_resumes]\n",
        "phrases = Phrases(sent, min_count=30, progress_per=10000)\n",
        "bigram = Phraser(phrases)\n",
        "sentences = bigram[sent]"
      ],
      "execution_count": null,
      "outputs": []
    },
    {
      "cell_type": "code",
      "metadata": {
        "colab": {
          "base_uri": "https://localhost:8080/"
        },
        "id": "zNAkrVCWBpiB",
        "outputId": "d813636b-38f3-43ba-b1a5-ef9906fe06a9"
      },
      "source": [
        "#extraction\n",
        "w2v_model =Word2Vec(sentences, size=300, window=12, min_count=5, negative=15,iter=15, workers=multiprocessing.cpu_count())\n",
        "w2v_model.intersect_word2vec_format('GoogleNews-vectors-negative300.bin.gz', lockf=1.0, binary=True)\n",
        "w2v_model.train(sentences, total_examples=w2v_model.corpus_count, epochs = 10)"
      ],
      "execution_count": null,
      "outputs": [
        {
          "output_type": "execute_result",
          "data": {
            "text/plain": [
              "(4162231, 4586050)"
            ]
          },
          "metadata": {
            "tags": []
          },
          "execution_count": 25
        }
      ]
    },
    {
      "cell_type": "code",
      "metadata": {
        "colab": {
          "base_uri": "https://localhost:8080/"
        },
        "id": "_pdGPiKGYxqD",
        "outputId": "cf420bf9-d861-4e63-f223-3a0ab61d6457"
      },
      "source": [
        "word_freq = defaultdict(int)\n",
        "for sent in sentences:\n",
        "    for i in sent:\n",
        "        word_freq[i] += 1\n",
        "len(word_freq)"
      ],
      "execution_count": null,
      "outputs": [
        {
          "output_type": "execute_result",
          "data": {
            "text/plain": [
              "26248"
            ]
          },
          "metadata": {
            "tags": []
          },
          "execution_count": 26
        }
      ]
    },
    {
      "cell_type": "code",
      "metadata": {
        "colab": {
          "base_uri": "https://localhost:8080/"
        },
        "id": "RWef8GWyZ4jW",
        "outputId": "fa2a04e3-ac8d-4c77-e978-5a9a054a89eb"
      },
      "source": [
        "sorted(word_freq, key=word_freq.get, reverse=True)[:10]"
      ],
      "execution_count": null,
      "outputs": [
        {
          "output_type": "execute_result",
          "data": {
            "text/plain": [
              "['management',\n",
              " 'singapore',\n",
              " 'financial',\n",
              " 'business',\n",
              " 'audit',\n",
              " 'clients',\n",
              " 'investment',\n",
              " 's',\n",
              " 'company',\n",
              " 'team']"
            ]
          },
          "metadata": {
            "tags": []
          },
          "execution_count": 27
        }
      ]
    },
    {
      "cell_type": "code",
      "metadata": {
        "colab": {
          "base_uri": "https://localhost:8080/"
        },
        "id": "j8EHkqcTblWY",
        "outputId": "40e25a82-570e-42d4-ae27-5ecaf5517a3a"
      },
      "source": [
        "w2v_model.wv.most_similar(positive=[\"bank\"])"
      ],
      "execution_count": null,
      "outputs": [
        {
          "output_type": "execute_result",
          "data": {
            "text/plain": [
              "[('vickers', 0.5045034289360046),\n",
              " ('bny', 0.48627832531929016),\n",
              " ('branch', 0.4622983932495117),\n",
              " ('banking_corporation', 0.46201878786087036),\n",
              " ('relationship_manager', 0.44938525557518005),\n",
              " ('banking', 0.43962377309799194),\n",
              " ('abn', 0.4325631260871887),\n",
              " ('amro', 0.43202441930770874),\n",
              " ('banks', 0.4148557484149933),\n",
              " ('boc', 0.41345784068107605)]"
            ]
          },
          "metadata": {
            "tags": []
          },
          "execution_count": 28
        }
      ]
    },
    {
      "cell_type": "markdown",
      "metadata": {
        "id": "NJrskoSSbTnE"
      },
      "source": [
        "#Skill Score"
      ]
    },
    {
      "cell_type": "code",
      "metadata": {
        "id": "J4xRdJVTdz2z"
      },
      "source": [
        "skills=['bank','trade','teach','engineer','driver','writer','data','cloud','programming','administration','sales','invest']\n",
        "job_skills=dict()\n",
        "for i in skills:\n",
        "  l=w2v_model.wv.most_similar(positive=i)\n",
        "  p=[]\n",
        "  for j in l:\n",
        "    p.append(j[0])\n",
        "  job_skills.__setitem__(i,p)\n",
        "  "
      ],
      "execution_count": null,
      "outputs": []
    },
    {
      "cell_type": "code",
      "metadata": {
        "id": "X9POJGXnnj7M"
      },
      "source": [
        "import pandas as pd\n",
        "def compute_score(i,sk,x):  \n",
        "  l=list()\n",
        "  for j in range(0,len(tokenized_resumes)):\n",
        "      c=0\n",
        "      file=open(txt_file + str(j) ,'r')\n",
        "      for line in file:\n",
        "          # reading each word        \n",
        "          for word in line.split():\n",
        "              # displaying the words\n",
        "              pr_sc=dict()\n",
        "              if word in job_skills[i]:\n",
        "                  c=c+1\n",
        "      l.append(c)\n",
        "  sk.insert(x, i, l, True)"
      ],
      "execution_count": null,
      "outputs": []
    },
    {
      "cell_type": "code",
      "metadata": {
        "id": "7gwWnJbTt4Il"
      },
      "source": [
        "x=0\n",
        "for i in skills:\n",
        "  compute_score(i,sk,x)\n",
        "  x=x+1"
      ],
      "execution_count": null,
      "outputs": []
    },
    {
      "cell_type": "code",
      "metadata": {
        "id": "_4jA7ElYtfPZ"
      },
      "source": [
        "sk['bank']=sk['bank']+sk['invest']\n",
        "sk=sk.drop(['invest'],axis=1)"
      ],
      "execution_count": null,
      "outputs": []
    },
    {
      "cell_type": "code",
      "metadata": {
        "colab": {
          "base_uri": "https://localhost:8080/"
        },
        "id": "9qMNIUeMwayw",
        "outputId": "75a70bbe-0eed-43ea-caec-c7ac75011556"
      },
      "source": [
        "def normalize(df):\n",
        "    result = df.copy()\n",
        "    for feature_name in df.columns[0:-2]:\n",
        "        max_value = df[feature_name].max()\n",
        "        min_value = df[feature_name].min()\n",
        "        result[feature_name] = (df[feature_name] - min_value) / (max_value - min_value)\n",
        "    return result\n",
        "sk=normalize(sk)\n",
        "print(sk)"
      ],
      "execution_count": null,
      "outputs": [
        {
          "output_type": "stream",
          "text": [
            "          bank  ...         Phone\n",
            "0     0.191489  ...            []\n",
            "1     0.021277  ...            []\n",
            "2     0.000000  ...  [1803818953]\n",
            "3     0.021277  ...            []\n",
            "4     0.063830  ...            []\n",
            "...        ...  ...           ...\n",
            "1030  0.021277  ...            []\n",
            "1031  0.127660  ...            []\n",
            "1032  0.000000  ...            []\n",
            "1033  0.042553  ...            []\n",
            "1034  0.021277  ...            []\n",
            "\n",
            "[1035 rows x 13 columns]\n"
          ],
          "name": "stdout"
        }
      ]
    },
    {
      "cell_type": "code",
      "metadata": {
        "id": "giFSblfww5Hh"
      },
      "source": [
        "l=[]\n",
        "for i in range(0,len(tokenized_resumes)):\n",
        "  s='resume'+str(i)\n",
        "  l.append(s)\n",
        "sk.insert(0,\"Resume_Id\",l,True)"
      ],
      "execution_count": null,
      "outputs": []
    },
    {
      "cell_type": "code",
      "metadata": {
        "colab": {
          "base_uri": "https://localhost:8080/",
          "height": 235
        },
        "id": "AJGE-NcJyS-w",
        "outputId": "ddff65ff-ba52-4deb-e9f3-d35e9ec7b35d"
      },
      "source": [
        "a=input(\"The parameter wanted:\")\n",
        "(sk.sort_values(by=a, ascending=False)).head()"
      ],
      "execution_count": null,
      "outputs": [
        {
          "output_type": "stream",
          "text": [
            "The parameter wanted:bank\n"
          ],
          "name": "stdout"
        },
        {
          "output_type": "execute_result",
          "data": {
            "text/html": [
              "<div>\n",
              "<style scoped>\n",
              "    .dataframe tbody tr th:only-of-type {\n",
              "        vertical-align: middle;\n",
              "    }\n",
              "\n",
              "    .dataframe tbody tr th {\n",
              "        vertical-align: top;\n",
              "    }\n",
              "\n",
              "    .dataframe thead th {\n",
              "        text-align: right;\n",
              "    }\n",
              "</style>\n",
              "<table border=\"1\" class=\"dataframe\">\n",
              "  <thead>\n",
              "    <tr style=\"text-align: right;\">\n",
              "      <th></th>\n",
              "      <th>Resume_Id</th>\n",
              "      <th>bank</th>\n",
              "      <th>trade</th>\n",
              "      <th>teach</th>\n",
              "      <th>engineer</th>\n",
              "      <th>driver</th>\n",
              "      <th>writer</th>\n",
              "      <th>data</th>\n",
              "      <th>cloud</th>\n",
              "      <th>programming</th>\n",
              "      <th>administration</th>\n",
              "      <th>sales</th>\n",
              "      <th>Email</th>\n",
              "      <th>Phone</th>\n",
              "    </tr>\n",
              "  </thead>\n",
              "  <tbody>\n",
              "    <tr>\n",
              "      <th>1021</th>\n",
              "      <td>resume1021</td>\n",
              "      <td>1.000000</td>\n",
              "      <td>0.071429</td>\n",
              "      <td>0.142857</td>\n",
              "      <td>0.0</td>\n",
              "      <td>0.133333</td>\n",
              "      <td>0.0</td>\n",
              "      <td>0.020134</td>\n",
              "      <td>0.000000</td>\n",
              "      <td>0.0</td>\n",
              "      <td>0.0</td>\n",
              "      <td>0.500000</td>\n",
              "      <td>[pnarula71@rediffmail.com]</td>\n",
              "      <td>[9810029640]</td>\n",
              "    </tr>\n",
              "    <tr>\n",
              "      <th>481</th>\n",
              "      <td>resume481</td>\n",
              "      <td>0.319149</td>\n",
              "      <td>0.000000</td>\n",
              "      <td>0.000000</td>\n",
              "      <td>0.0</td>\n",
              "      <td>0.066667</td>\n",
              "      <td>0.0</td>\n",
              "      <td>0.006711</td>\n",
              "      <td>0.000000</td>\n",
              "      <td>0.0</td>\n",
              "      <td>0.0</td>\n",
              "      <td>0.318182</td>\n",
              "      <td>[perline_tan@yahoo.com]</td>\n",
              "      <td>[]</td>\n",
              "    </tr>\n",
              "    <tr>\n",
              "      <th>302</th>\n",
              "      <td>resume302</td>\n",
              "      <td>0.319149</td>\n",
              "      <td>0.178571</td>\n",
              "      <td>0.000000</td>\n",
              "      <td>0.0</td>\n",
              "      <td>0.000000</td>\n",
              "      <td>0.0</td>\n",
              "      <td>0.000000</td>\n",
              "      <td>0.000000</td>\n",
              "      <td>0.0</td>\n",
              "      <td>0.0</td>\n",
              "      <td>0.454545</td>\n",
              "      <td>[hamed@westviewcapitaladvisors.com]</td>\n",
              "      <td>[9715520855]</td>\n",
              "    </tr>\n",
              "    <tr>\n",
              "      <th>980</th>\n",
              "      <td>resume980</td>\n",
              "      <td>0.297872</td>\n",
              "      <td>0.000000</td>\n",
              "      <td>0.000000</td>\n",
              "      <td>0.0</td>\n",
              "      <td>0.000000</td>\n",
              "      <td>0.0</td>\n",
              "      <td>0.000000</td>\n",
              "      <td>0.000000</td>\n",
              "      <td>0.0</td>\n",
              "      <td>0.0</td>\n",
              "      <td>0.045455</td>\n",
              "      <td>[Rebecca.Dengxw@gmail.com]</td>\n",
              "      <td>[]</td>\n",
              "    </tr>\n",
              "    <tr>\n",
              "      <th>685</th>\n",
              "      <td>resume685</td>\n",
              "      <td>0.276596</td>\n",
              "      <td>0.071429</td>\n",
              "      <td>0.000000</td>\n",
              "      <td>0.3</td>\n",
              "      <td>0.066667</td>\n",
              "      <td>0.0</td>\n",
              "      <td>0.013423</td>\n",
              "      <td>0.266667</td>\n",
              "      <td>0.0</td>\n",
              "      <td>0.0</td>\n",
              "      <td>0.181818</td>\n",
              "      <td>[ray.ls.yeung@gmail.com]</td>\n",
              "      <td>[]</td>\n",
              "    </tr>\n",
              "  </tbody>\n",
              "</table>\n",
              "</div>"
            ],
            "text/plain": [
              "       Resume_Id      bank  ...                                Email         Phone\n",
              "1021  resume1021  1.000000  ...           [pnarula71@rediffmail.com]  [9810029640]\n",
              "481    resume481  0.319149  ...              [perline_tan@yahoo.com]            []\n",
              "302    resume302  0.319149  ...  [hamed@westviewcapitaladvisors.com]  [9715520855]\n",
              "980    resume980  0.297872  ...           [Rebecca.Dengxw@gmail.com]            []\n",
              "685    resume685  0.276596  ...             [ray.ls.yeung@gmail.com]            []\n",
              "\n",
              "[5 rows x 14 columns]"
            ]
          },
          "metadata": {
            "tags": []
          },
          "execution_count": 93
        }
      ]
    },
    {
      "cell_type": "code",
      "metadata": {
        "colab": {
          "base_uri": "https://localhost:8080/",
          "height": 235
        },
        "id": "84Ub5nWDJHc-",
        "outputId": "9060d099-0b4e-4ff4-d9ee-c6db602487a9"
      },
      "source": [
        "a=input(\"The parameter wanted:\")\n",
        "(sk.sort_values(by=a, ascending=False)).head()"
      ],
      "execution_count": null,
      "outputs": [
        {
          "output_type": "stream",
          "text": [
            "The parameter wanted:teach\n"
          ],
          "name": "stdout"
        },
        {
          "output_type": "execute_result",
          "data": {
            "text/html": [
              "<div>\n",
              "<style scoped>\n",
              "    .dataframe tbody tr th:only-of-type {\n",
              "        vertical-align: middle;\n",
              "    }\n",
              "\n",
              "    .dataframe tbody tr th {\n",
              "        vertical-align: top;\n",
              "    }\n",
              "\n",
              "    .dataframe thead th {\n",
              "        text-align: right;\n",
              "    }\n",
              "</style>\n",
              "<table border=\"1\" class=\"dataframe\">\n",
              "  <thead>\n",
              "    <tr style=\"text-align: right;\">\n",
              "      <th></th>\n",
              "      <th>Resume_Id</th>\n",
              "      <th>bank</th>\n",
              "      <th>trade</th>\n",
              "      <th>teach</th>\n",
              "      <th>engineer</th>\n",
              "      <th>driver</th>\n",
              "      <th>writer</th>\n",
              "      <th>data</th>\n",
              "      <th>cloud</th>\n",
              "      <th>programming</th>\n",
              "      <th>administration</th>\n",
              "      <th>sales</th>\n",
              "      <th>Email</th>\n",
              "      <th>Phone</th>\n",
              "    </tr>\n",
              "  </thead>\n",
              "  <tbody>\n",
              "    <tr>\n",
              "      <th>815</th>\n",
              "      <td>resume815</td>\n",
              "      <td>0.085106</td>\n",
              "      <td>0.000000</td>\n",
              "      <td>1.000000</td>\n",
              "      <td>0.0</td>\n",
              "      <td>0.066667</td>\n",
              "      <td>0.0</td>\n",
              "      <td>0.000000</td>\n",
              "      <td>0.0</td>\n",
              "      <td>0.000000</td>\n",
              "      <td>0.060606</td>\n",
              "      <td>0.0</td>\n",
              "      <td>[luong_quangninh@yahoo.com]</td>\n",
              "      <td>[]</td>\n",
              "    </tr>\n",
              "    <tr>\n",
              "      <th>394</th>\n",
              "      <td>resume394</td>\n",
              "      <td>0.000000</td>\n",
              "      <td>0.000000</td>\n",
              "      <td>0.857143</td>\n",
              "      <td>0.0</td>\n",
              "      <td>0.000000</td>\n",
              "      <td>0.0</td>\n",
              "      <td>0.006711</td>\n",
              "      <td>0.0</td>\n",
              "      <td>0.000000</td>\n",
              "      <td>0.000000</td>\n",
              "      <td>0.0</td>\n",
              "      <td>[shawnwwsean@gmail.com]</td>\n",
              "      <td>[]</td>\n",
              "    </tr>\n",
              "    <tr>\n",
              "      <th>413</th>\n",
              "      <td>resume413</td>\n",
              "      <td>0.000000</td>\n",
              "      <td>0.035714</td>\n",
              "      <td>0.857143</td>\n",
              "      <td>0.0</td>\n",
              "      <td>0.000000</td>\n",
              "      <td>0.0</td>\n",
              "      <td>0.013423</td>\n",
              "      <td>0.0</td>\n",
              "      <td>0.038462</td>\n",
              "      <td>0.000000</td>\n",
              "      <td>0.0</td>\n",
              "      <td>[runchao91@gmail.com]</td>\n",
              "      <td>[]</td>\n",
              "    </tr>\n",
              "    <tr>\n",
              "      <th>164</th>\n",
              "      <td>resume164</td>\n",
              "      <td>0.021277</td>\n",
              "      <td>0.035714</td>\n",
              "      <td>0.571429</td>\n",
              "      <td>0.0</td>\n",
              "      <td>0.000000</td>\n",
              "      <td>0.0</td>\n",
              "      <td>0.013423</td>\n",
              "      <td>0.0</td>\n",
              "      <td>0.000000</td>\n",
              "      <td>0.060606</td>\n",
              "      <td>0.0</td>\n",
              "      <td>[hyyalina@gmail.com]</td>\n",
              "      <td>[]</td>\n",
              "    </tr>\n",
              "    <tr>\n",
              "      <th>371</th>\n",
              "      <td>resume371</td>\n",
              "      <td>0.000000</td>\n",
              "      <td>0.000000</td>\n",
              "      <td>0.571429</td>\n",
              "      <td>0.0</td>\n",
              "      <td>0.000000</td>\n",
              "      <td>0.0</td>\n",
              "      <td>0.006711</td>\n",
              "      <td>0.0</td>\n",
              "      <td>0.000000</td>\n",
              "      <td>0.030303</td>\n",
              "      <td>0.0</td>\n",
              "      <td>[kevinauck@gmail.com]</td>\n",
              "      <td>[]</td>\n",
              "    </tr>\n",
              "  </tbody>\n",
              "</table>\n",
              "</div>"
            ],
            "text/plain": [
              "     Resume_Id      bank     trade  ...  sales                        Email  Phone\n",
              "815  resume815  0.085106  0.000000  ...    0.0  [luong_quangninh@yahoo.com]     []\n",
              "394  resume394  0.000000  0.000000  ...    0.0      [shawnwwsean@gmail.com]     []\n",
              "413  resume413  0.000000  0.035714  ...    0.0        [runchao91@gmail.com]     []\n",
              "164  resume164  0.021277  0.035714  ...    0.0         [hyyalina@gmail.com]     []\n",
              "371  resume371  0.000000  0.000000  ...    0.0        [kevinauck@gmail.com]     []\n",
              "\n",
              "[5 rows x 14 columns]"
            ]
          },
          "metadata": {
            "tags": []
          },
          "execution_count": 94
        }
      ]
    },
    {
      "cell_type": "code",
      "metadata": {
        "id": "J_p0B7qtNqxf"
      },
      "source": [
        ""
      ],
      "execution_count": null,
      "outputs": []
    }
  ]
}